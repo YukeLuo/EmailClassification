{
 "cells": [
  {
   "cell_type": "code",
   "execution_count": 502,
   "metadata": {},
   "outputs": [],
   "source": [
    "import psycopg2 as pc2\n",
    "import pandas as pd\n",
    "import seaborn as sns\n",
    "import matplotlib.pyplot as plt\n",
    "import re\n",
    "from sklearn.model_selection import train_test_split\n",
    "import numpy as np\n",
    "from nltk.corpus import stopwords\n",
    "from nltk.tokenize import word_tokenize\n",
    "from keras.preprocessing.text import Tokenizer\n",
    "from keras.preprocessing.sequence import pad_sequences\n",
    "from keras.models import Sequential\n",
    "from keras.layers import Embedding, LSTM, Dense, Dropout\n",
    "from keras.initializers import Constant\n",
    "from keras.optimizers import Adam\n",
    "import json\n",
    "import keras"
   ]
  },
  {
   "cell_type": "code",
   "execution_count": 3,
   "metadata": {},
   "outputs": [],
   "source": [
    "conn = pc2.connect(host = \"dtc-db-3\",\n",
    "                   database = \"mailmonitor\",\n",
    "                   port = 5432,\n",
    "                   user='readonly',\n",
    "                   password='readonly')"
   ]
  },
  {
   "cell_type": "code",
   "execution_count": 4,
   "metadata": {},
   "outputs": [
    {
     "data": {
      "text/html": [
       "<div>\n",
       "<style scoped>\n",
       "    .dataframe tbody tr th:only-of-type {\n",
       "        vertical-align: middle;\n",
       "    }\n",
       "\n",
       "    .dataframe tbody tr th {\n",
       "        vertical-align: top;\n",
       "    }\n",
       "\n",
       "    .dataframe thead th {\n",
       "        text-align: right;\n",
       "    }\n",
       "</style>\n",
       "<table border=\"1\" class=\"dataframe\">\n",
       "  <thead>\n",
       "    <tr style=\"text-align: right;\">\n",
       "      <th></th>\n",
       "      <th>subject</th>\n",
       "      <th>folder_name</th>\n",
       "      <th>year</th>\n",
       "    </tr>\n",
       "  </thead>\n",
       "  <tbody>\n",
       "    <tr>\n",
       "      <th>0</th>\n",
       "      <td>Fri, 24 Apr 2015 03:21:56 -0700</td>\n",
       "      <td>Spam</td>\n",
       "      <td>2015</td>\n",
       "    </tr>\n",
       "    <tr>\n",
       "      <th>1</th>\n",
       "      <td>Fri, 24 Apr 2015 03:21:56 -0700</td>\n",
       "      <td>Spam</td>\n",
       "      <td>2015</td>\n",
       "    </tr>\n",
       "    <tr>\n",
       "      <th>2</th>\n",
       "      <td>State’s Deepest Darkest Secret: a $54 Trillion...</td>\n",
       "      <td>Inbox</td>\n",
       "      <td>2015</td>\n",
       "    </tr>\n",
       "    <tr>\n",
       "      <th>3</th>\n",
       "      <td>You Can Win an AR-15!</td>\n",
       "      <td>Inbox</td>\n",
       "      <td>2015</td>\n",
       "    </tr>\n",
       "    <tr>\n",
       "      <th>4</th>\n",
       "      <td>⚠ Breaking News! Obama’s Amnesty Executive Ord...</td>\n",
       "      <td>Inbox</td>\n",
       "      <td>2015</td>\n",
       "    </tr>\n",
       "    <tr>\n",
       "      <th>...</th>\n",
       "      <td>...</td>\n",
       "      <td>...</td>\n",
       "      <td>...</td>\n",
       "    </tr>\n",
       "    <tr>\n",
       "      <th>365514</th>\n",
       "      <td>The Pikes Peak Cog Railway Is Reopening This S...</td>\n",
       "      <td>INBOX</td>\n",
       "      <td>2021</td>\n",
       "    </tr>\n",
       "    <tr>\n",
       "      <th>365515</th>\n",
       "      <td>The Pikes Peak Cog Railway Is Reopening This S...</td>\n",
       "      <td>INBOX</td>\n",
       "      <td>2021</td>\n",
       "    </tr>\n",
       "    <tr>\n",
       "      <th>365516</th>\n",
       "      <td>The Pikes Peak Cog Railway Is Reopening This S...</td>\n",
       "      <td>INBOX</td>\n",
       "      <td>2021</td>\n",
       "    </tr>\n",
       "    <tr>\n",
       "      <th>365517</th>\n",
       "      <td>The Pikes Peak Cog Railway Is Reopening This S...</td>\n",
       "      <td>INBOX</td>\n",
       "      <td>2021</td>\n",
       "    </tr>\n",
       "    <tr>\n",
       "      <th>365518</th>\n",
       "      <td>The Pikes Peak Cog Railway Is Reopening This S...</td>\n",
       "      <td>INBOX</td>\n",
       "      <td>2021</td>\n",
       "    </tr>\n",
       "  </tbody>\n",
       "</table>\n",
       "<p>365519 rows × 3 columns</p>\n",
       "</div>"
      ],
      "text/plain": [
       "                                                  subject folder_name  year\n",
       "0                         Fri, 24 Apr 2015 03:21:56 -0700        Spam  2015\n",
       "1                         Fri, 24 Apr 2015 03:21:56 -0700        Spam  2015\n",
       "2       State’s Deepest Darkest Secret: a $54 Trillion...       Inbox  2015\n",
       "3                                   You Can Win an AR-15!       Inbox  2015\n",
       "4       ⚠ Breaking News! Obama’s Amnesty Executive Ord...       Inbox  2015\n",
       "...                                                   ...         ...   ...\n",
       "365514  The Pikes Peak Cog Railway Is Reopening This S...       INBOX  2021\n",
       "365515  The Pikes Peak Cog Railway Is Reopening This S...       INBOX  2021\n",
       "365516  The Pikes Peak Cog Railway Is Reopening This S...       INBOX  2021\n",
       "365517  The Pikes Peak Cog Railway Is Reopening This S...       INBOX  2021\n",
       "365518  The Pikes Peak Cog Railway Is Reopening This S...       INBOX  2021\n",
       "\n",
       "[365519 rows x 3 columns]"
      ]
     },
     "execution_count": 4,
     "metadata": {},
     "output_type": "execute_result"
    }
   ],
   "source": [
    "query = \"select subject, folder_name,processed_at from messages\"\n",
    "df = pd.read_sql(query, conn)\n",
    "df['year'] = pd.DatetimeIndex(df['processed_at']).year\n",
    "#df['Year'] = pd.to_datetime(df[\"year\"], format = \"%Y\")\n",
    "#df.set_index('year',inplace=True)\n",
    "df.drop('processed_at',axis=1,inplace=True)\n",
    "df"
   ]
  },
  {
   "cell_type": "code",
   "execution_count": 5,
   "metadata": {},
   "outputs": [
    {
     "data": {
      "text/plain": [
       "subject                                                                       folder_name  year\n",
       "Parker - DoBizLo Daily Deals                                                  Spam         2015    92\n",
       "Central Denver : Explore The Community                                        Spam         2017    73\n",
       "Your Purchase from Audi Denver Grants You Exclusive Access to Traveland Golf  Spam         2018    67\n",
       "It's September's Featured Roll or Bowl                                        Spam         2018    66\n",
       "Support The Children + Get Your Daily Features                                Spam         2018    54\n",
       "                                                                                                   ..\n",
       "Looking to Make a Statement? Look no Further.                                 Spam         2018     1\n",
       "Lookout For Smashing Pumpkins + $2000 Off A 2019 Logan Crossfire              Spam         2018     1\n",
       "Love is in the Air... Enjoy 1.9% APR for 60 Months                            Spam         2017     1\n",
       "Lunch Perfection                                                              Spam         2015     1\n",
       "\"FREE\" Stands For \"AR-15\"                                                     Spam         2017     1\n",
       "Length: 2008, dtype: int64"
      ]
     },
     "execution_count": 5,
     "metadata": {},
     "output_type": "execute_result"
    }
   ],
   "source": [
    "df[df.folder_name=='Spam'].value_counts()"
   ]
  },
  {
   "cell_type": "code",
   "execution_count": 468,
   "metadata": {},
   "outputs": [],
   "source": [
    "dff = df.copy()"
   ]
  },
  {
   "cell_type": "code",
   "execution_count": 469,
   "metadata": {},
   "outputs": [
    {
     "data": {
      "text/html": [
       "<div>\n",
       "<style scoped>\n",
       "    .dataframe tbody tr th:only-of-type {\n",
       "        vertical-align: middle;\n",
       "    }\n",
       "\n",
       "    .dataframe tbody tr th {\n",
       "        vertical-align: top;\n",
       "    }\n",
       "\n",
       "    .dataframe thead th {\n",
       "        text-align: right;\n",
       "    }\n",
       "</style>\n",
       "<table border=\"1\" class=\"dataframe\">\n",
       "  <thead>\n",
       "    <tr style=\"text-align: right;\">\n",
       "      <th></th>\n",
       "      <th>subject</th>\n",
       "      <th>folder_name</th>\n",
       "      <th>year</th>\n",
       "      <th>folder</th>\n",
       "    </tr>\n",
       "  </thead>\n",
       "  <tbody>\n",
       "    <tr>\n",
       "      <th>0</th>\n",
       "      <td>Fri, 24 Apr 2015 03:21:56 -0700</td>\n",
       "      <td>Spam</td>\n",
       "      <td>2015</td>\n",
       "      <td>1</td>\n",
       "    </tr>\n",
       "    <tr>\n",
       "      <th>1</th>\n",
       "      <td>Fri, 24 Apr 2015 03:21:56 -0700</td>\n",
       "      <td>Spam</td>\n",
       "      <td>2015</td>\n",
       "      <td>1</td>\n",
       "    </tr>\n",
       "    <tr>\n",
       "      <th>2</th>\n",
       "      <td>State’s Deepest Darkest Secret: a $54 Trillion...</td>\n",
       "      <td>Inbox</td>\n",
       "      <td>2015</td>\n",
       "      <td>0</td>\n",
       "    </tr>\n",
       "    <tr>\n",
       "      <th>3</th>\n",
       "      <td>You Can Win an AR-15!</td>\n",
       "      <td>Inbox</td>\n",
       "      <td>2015</td>\n",
       "      <td>0</td>\n",
       "    </tr>\n",
       "    <tr>\n",
       "      <th>4</th>\n",
       "      <td>⚠ Breaking News! Obama’s Amnesty Executive Ord...</td>\n",
       "      <td>Inbox</td>\n",
       "      <td>2015</td>\n",
       "      <td>0</td>\n",
       "    </tr>\n",
       "    <tr>\n",
       "      <th>...</th>\n",
       "      <td>...</td>\n",
       "      <td>...</td>\n",
       "      <td>...</td>\n",
       "      <td>...</td>\n",
       "    </tr>\n",
       "    <tr>\n",
       "      <th>365514</th>\n",
       "      <td>The Pikes Peak Cog Railway Is Reopening This S...</td>\n",
       "      <td>INBOX</td>\n",
       "      <td>2021</td>\n",
       "      <td>0</td>\n",
       "    </tr>\n",
       "    <tr>\n",
       "      <th>365515</th>\n",
       "      <td>The Pikes Peak Cog Railway Is Reopening This S...</td>\n",
       "      <td>INBOX</td>\n",
       "      <td>2021</td>\n",
       "      <td>0</td>\n",
       "    </tr>\n",
       "    <tr>\n",
       "      <th>365516</th>\n",
       "      <td>The Pikes Peak Cog Railway Is Reopening This S...</td>\n",
       "      <td>INBOX</td>\n",
       "      <td>2021</td>\n",
       "      <td>0</td>\n",
       "    </tr>\n",
       "    <tr>\n",
       "      <th>365517</th>\n",
       "      <td>The Pikes Peak Cog Railway Is Reopening This S...</td>\n",
       "      <td>INBOX</td>\n",
       "      <td>2021</td>\n",
       "      <td>0</td>\n",
       "    </tr>\n",
       "    <tr>\n",
       "      <th>365518</th>\n",
       "      <td>The Pikes Peak Cog Railway Is Reopening This S...</td>\n",
       "      <td>INBOX</td>\n",
       "      <td>2021</td>\n",
       "      <td>0</td>\n",
       "    </tr>\n",
       "  </tbody>\n",
       "</table>\n",
       "<p>365519 rows × 4 columns</p>\n",
       "</div>"
      ],
      "text/plain": [
       "                                                  subject folder_name  year  \\\n",
       "0                         Fri, 24 Apr 2015 03:21:56 -0700        Spam  2015   \n",
       "1                         Fri, 24 Apr 2015 03:21:56 -0700        Spam  2015   \n",
       "2       State’s Deepest Darkest Secret: a $54 Trillion...       Inbox  2015   \n",
       "3                                   You Can Win an AR-15!       Inbox  2015   \n",
       "4       ⚠ Breaking News! Obama’s Amnesty Executive Ord...       Inbox  2015   \n",
       "...                                                   ...         ...   ...   \n",
       "365514  The Pikes Peak Cog Railway Is Reopening This S...       INBOX  2021   \n",
       "365515  The Pikes Peak Cog Railway Is Reopening This S...       INBOX  2021   \n",
       "365516  The Pikes Peak Cog Railway Is Reopening This S...       INBOX  2021   \n",
       "365517  The Pikes Peak Cog Railway Is Reopening This S...       INBOX  2021   \n",
       "365518  The Pikes Peak Cog Railway Is Reopening This S...       INBOX  2021   \n",
       "\n",
       "       folder  \n",
       "0           1  \n",
       "1           1  \n",
       "2           0  \n",
       "3           0  \n",
       "4           0  \n",
       "...       ...  \n",
       "365514      0  \n",
       "365515      0  \n",
       "365516      0  \n",
       "365517      0  \n",
       "365518      0  \n",
       "\n",
       "[365519 rows x 4 columns]"
      ]
     },
     "execution_count": 469,
     "metadata": {},
     "output_type": "execute_result"
    }
   ],
   "source": [
    "dff['folder'] = dff['folder_name']\n",
    "dff.loc[dff.folder == 'INBOX', 'folder'] = 0\n",
    "dff.loc[dff.folder == 'Inbox', 'folder'] = 0\n",
    "dff.loc[dff.folder != 0,'folder'] = 1\n",
    "dff"
   ]
  },
  {
   "cell_type": "code",
   "execution_count": 95,
   "metadata": {
    "scrolled": false
   },
   "outputs": [
    {
     "data": {
      "text/plain": [
       "<matplotlib.legend.Legend at 0x20e950cc4f0>"
      ]
     },
     "execution_count": 95,
     "metadata": {},
     "output_type": "execute_result"
    },
    {
     "data": {
      "image/png": "[encoded data removed]",
      "text/plain": [
       "<Figure size 864x576 with 1 Axes>"
      ]
     },
     "metadata": {
      "needs_background": "light"
     },
     "output_type": "display_data"
    }
   ],
   "source": [
    "#fig, ax = plt.subplots()\n",
    "df_gb = dff.groupby(['year', 'folder']).size().unstack(level=1)\n",
    "df_gb.plot(kind = 'bar',figsize=(12,8),rot=0)\n",
    "plt.legend(['Not inbox (Spam)','Inbox'])"
   ]
  },
  {
   "cell_type": "code",
   "execution_count": 470,
   "metadata": {},
   "outputs": [],
   "source": [
    "# training set 273519, testing set 91174\n",
    "train, test = train_test_split(dff, shuffle=True)"
   ]
  },
  {
   "cell_type": "code",
   "execution_count": 471,
   "metadata": {},
   "outputs": [],
   "source": [
    "train.reset_index(drop=True,inplace=True)\n",
    "test.reset_index(drop=True,inplace=True)"
   ]
  },
  {
   "cell_type": "code",
   "execution_count": 472,
   "metadata": {},
   "outputs": [
    {
     "name": "stderr",
     "output_type": "stream",
     "text": [
      "C:\\Users\\yluo\\Anaconda3\\lib\\site-packages\\pandas\\core\\generic.py:5168: SettingWithCopyWarning: \n",
      "A value is trying to be set on a copy of a slice from a DataFrame.\n",
      "Try using .loc[row_indexer,col_indexer] = value instead\n",
      "\n",
      "See the caveats in the documentation: https://pandas.pydata.org/pandas-docs/stable/user_guide/indexing.html#returning-a-view-versus-a-copy\n",
      "  self[name] = value\n"
     ]
    }
   ],
   "source": [
    "train.subject = train.subject.str.replace('\\W', ' ')"
   ]
  },
  {
   "cell_type": "code",
   "execution_count": 11,
   "metadata": {},
   "outputs": [
    {
     "data": {
      "text/plain": [
       "'\\ndef remove_URL(text):\\n    url = re.compile(r\"https?://\\\\S+|www\\\\.\\\\S+\")\\n    return url.sub(r\"\", text)\\n\\n\\ndef remove_html(text):\\n    html = re.compile(r\"<.*?>\")\\n    return html.sub(r\"\", text)\\n\\ndef remove_emoji(string):\\n    emoji_pattern = re.compile(\\n        \"[\"\\n        u\"😀-🙏\"  # emoticons\\n        u\"🌀-🗿\"  # symbols & pictographs\\n        u\"🚀-\\U0001f6ff\"  # transport & map symbols\\n        u\"\\U0001f1e0-🇿\"  # flags (iOS)\\n        u\"✂-➰\"\\n        u\"Ⓜ-🉑\"\\n        u\"🤑\"\\n        \\n        \"]+\",\\n        flags=re.UNICODE,\\n    )\\n    return emoji_pattern.sub(r\"\", string)\\n\\nimport string\\n\\n\\ndef remove_punct(text):\\n    table = str.maketrans(\"\", \"\", string.punctuation)\\n    return text.translate(table)\\n\\n'"
      ]
     },
     "execution_count": 11,
     "metadata": {},
     "output_type": "execute_result"
    }
   ],
   "source": [
    "'''\n",
    "def remove_URL(text):\n",
    "    url = re.compile(r\"https?://\\S+|www\\.\\S+\")\n",
    "    return url.sub(r\"\", text)\n",
    "\n",
    "\n",
    "def remove_html(text):\n",
    "    html = re.compile(r\"<.*?>\")\n",
    "    return html.sub(r\"\", text)\n",
    "\n",
    "def remove_emoji(string):\n",
    "    emoji_pattern = re.compile(\n",
    "        \"[\"\n",
    "        u\"\\U0001F600-\\U0001F64F\"  # emoticons\n",
    "        u\"\\U0001F300-\\U0001F5FF\"  # symbols & pictographs\n",
    "        u\"\\U0001F680-\\U0001F6FF\"  # transport & map symbols\n",
    "        u\"\\U0001F1E0-\\U0001F1FF\"  # flags (iOS)\n",
    "        u\"\\U00002702-\\U000027B0\"\n",
    "        u\"\\U000024C2-\\U0001F251\"\n",
    "        u\"\\U0001F911\"\n",
    "        \n",
    "        \"]+\",\n",
    "        flags=re.UNICODE,\n",
    "    )\n",
    "    return emoji_pattern.sub(r\"\", string)\n",
    "\n",
    "import string\n",
    "\n",
    "\n",
    "def remove_punct(text):\n",
    "    table = str.maketrans(\"\", \"\", string.punctuation)\n",
    "    return text.translate(table)\n",
    "\n",
    "'''"
   ]
  },
  {
   "cell_type": "code",
   "execution_count": 12,
   "metadata": {},
   "outputs": [
    {
     "data": {
      "text/plain": [
       "'\\ntrain.subject = train.subject.map(lambda x: remove_URL(x))\\ntrain.subject = train.subject.map(lambda x: remove_html(x))\\ntrain.subject = train.subject.map(lambda x: remove_emoji(x))\\ntrain.subject = train.subject.map(lambda x: remove_punct(x))\\n'"
      ]
     },
     "execution_count": 12,
     "metadata": {},
     "output_type": "execute_result"
    }
   ],
   "source": [
    "'''\n",
    "train.subject = train.subject.map(lambda x: remove_URL(x))\n",
    "train.subject = train.subject.map(lambda x: remove_html(x))\n",
    "train.subject = train.subject.map(lambda x: remove_emoji(x))\n",
    "train.subject = train.subject.map(lambda x: remove_punct(x))\n",
    "'''"
   ]
  },
  {
   "cell_type": "code",
   "execution_count": 473,
   "metadata": {},
   "outputs": [
    {
     "data": {
      "text/html": [
       "<div>\n",
       "<style scoped>\n",
       "    .dataframe tbody tr th:only-of-type {\n",
       "        vertical-align: middle;\n",
       "    }\n",
       "\n",
       "    .dataframe tbody tr th {\n",
       "        vertical-align: top;\n",
       "    }\n",
       "\n",
       "    .dataframe thead th {\n",
       "        text-align: right;\n",
       "    }\n",
       "</style>\n",
       "<table border=\"1\" class=\"dataframe\">\n",
       "  <thead>\n",
       "    <tr style=\"text-align: right;\">\n",
       "      <th></th>\n",
       "      <th>subject</th>\n",
       "      <th>folder_name</th>\n",
       "      <th>year</th>\n",
       "      <th>folder</th>\n",
       "    </tr>\n",
       "  </thead>\n",
       "  <tbody>\n",
       "    <tr>\n",
       "      <th>0</th>\n",
       "      <td>6 Low Carb Cocktails for Warm Weather Drinking</td>\n",
       "      <td>INBOX</td>\n",
       "      <td>2020</td>\n",
       "      <td>0</td>\n",
       "    </tr>\n",
       "  </tbody>\n",
       "</table>\n",
       "</div>"
      ],
      "text/plain": [
       "                                          subject folder_name  year folder\n",
       "0  6 Low Carb Cocktails for Warm Weather Drinking       INBOX  2020      0"
      ]
     },
     "execution_count": 473,
     "metadata": {},
     "output_type": "execute_result"
    }
   ],
   "source": [
    "train.head(1)"
   ]
  },
  {
   "cell_type": "code",
   "execution_count": 16,
   "metadata": {},
   "outputs": [
    {
     "name": "stderr",
     "output_type": "stream",
     "text": [
      "[nltk_data] Downloading package stopwords to\n",
      "[nltk_data]     C:\\Users\\yluo\\AppData\\Roaming\\nltk_data...\n",
      "[nltk_data]   Unzipping corpora\\stopwords.zip.\n",
      "[nltk_data] Downloading package punkt to\n",
      "[nltk_data]     C:\\Users\\yluo\\AppData\\Roaming\\nltk_data...\n",
      "[nltk_data]   Unzipping tokenizers\\punkt.zip.\n"
     ]
    },
    {
     "data": {
      "text/plain": [
       "True"
      ]
     },
     "execution_count": 16,
     "metadata": {},
     "output_type": "execute_result"
    }
   ],
   "source": [
    "#import nltk\n",
    "#nltk.download('stopwords')\n",
    "#nltk.download('punkt')"
   ]
  },
  {
   "cell_type": "code",
   "execution_count": 474,
   "metadata": {},
   "outputs": [],
   "source": [
    "\n",
    "\n",
    "stop = set(stopwords.words(\"english\"))\n",
    "\n",
    "\n",
    "def remove_stopwords(text):\n",
    "    text = [word.lower() for word in text.split() if word.lower() not in stop]\n",
    "\n",
    "    return \" \".join(text)"
   ]
  },
  {
   "cell_type": "code",
   "execution_count": 475,
   "metadata": {},
   "outputs": [
    {
     "name": "stderr",
     "output_type": "stream",
     "text": [
      "C:\\Users\\yluo\\Anaconda3\\lib\\site-packages\\pandas\\core\\generic.py:5168: SettingWithCopyWarning: \n",
      "A value is trying to be set on a copy of a slice from a DataFrame.\n",
      "Try using .loc[row_indexer,col_indexer] = value instead\n",
      "\n",
      "See the caveats in the documentation: https://pandas.pydata.org/pandas-docs/stable/user_guide/indexing.html#returning-a-view-versus-a-copy\n",
      "  self[name] = value\n"
     ]
    },
    {
     "data": {
      "text/html": [
       "<div>\n",
       "<style scoped>\n",
       "    .dataframe tbody tr th:only-of-type {\n",
       "        vertical-align: middle;\n",
       "    }\n",
       "\n",
       "    .dataframe tbody tr th {\n",
       "        vertical-align: top;\n",
       "    }\n",
       "\n",
       "    .dataframe thead th {\n",
       "        text-align: right;\n",
       "    }\n",
       "</style>\n",
       "<table border=\"1\" class=\"dataframe\">\n",
       "  <thead>\n",
       "    <tr style=\"text-align: right;\">\n",
       "      <th></th>\n",
       "      <th>subject</th>\n",
       "      <th>folder_name</th>\n",
       "      <th>year</th>\n",
       "      <th>folder</th>\n",
       "    </tr>\n",
       "  </thead>\n",
       "  <tbody>\n",
       "    <tr>\n",
       "      <th>0</th>\n",
       "      <td>6 low carb cocktails warm weather drinking</td>\n",
       "      <td>INBOX</td>\n",
       "      <td>2020</td>\n",
       "      <td>0</td>\n",
       "    </tr>\n",
       "    <tr>\n",
       "      <th>1</th>\n",
       "      <td>behind polls republicans see silver lining vot...</td>\n",
       "      <td>INBOX</td>\n",
       "      <td>2020</td>\n",
       "      <td>0</td>\n",
       "    </tr>\n",
       "    <tr>\n",
       "      <th>2</th>\n",
       "      <td>huge update gop cowards reversing course sidin...</td>\n",
       "      <td>INBOX</td>\n",
       "      <td>2020</td>\n",
       "      <td>0</td>\n",
       "    </tr>\n",
       "    <tr>\n",
       "      <th>3</th>\n",
       "      <td>kentucky derby run 23 000 fans stands</td>\n",
       "      <td>[Gmail]/Spam</td>\n",
       "      <td>2020</td>\n",
       "      <td>1</td>\n",
       "    </tr>\n",
       "    <tr>\n",
       "      <th>4</th>\n",
       "      <td>gift better brcc bundles</td>\n",
       "      <td>INBOX</td>\n",
       "      <td>2019</td>\n",
       "      <td>0</td>\n",
       "    </tr>\n",
       "  </tbody>\n",
       "</table>\n",
       "</div>"
      ],
      "text/plain": [
       "                                             subject   folder_name  year  \\\n",
       "0         6 low carb cocktails warm weather drinking         INBOX  2020   \n",
       "1  behind polls republicans see silver lining vot...         INBOX  2020   \n",
       "2  huge update gop cowards reversing course sidin...         INBOX  2020   \n",
       "3              kentucky derby run 23 000 fans stands  [Gmail]/Spam  2020   \n",
       "4                           gift better brcc bundles         INBOX  2019   \n",
       "\n",
       "  folder  \n",
       "0      0  \n",
       "1      0  \n",
       "2      0  \n",
       "3      1  \n",
       "4      0  "
      ]
     },
     "execution_count": 475,
     "metadata": {},
     "output_type": "execute_result"
    }
   ],
   "source": [
    "train.subject = train.subject.map(remove_stopwords)\n",
    "train.head(5)"
   ]
  },
  {
   "cell_type": "code",
   "execution_count": 476,
   "metadata": {},
   "outputs": [],
   "source": [
    "\n",
    "import nltk\n",
    "def create_corpus_tk(df):\n",
    "    corpus = []\n",
    "    for text in train.subject:\n",
    "        words = [word.lower() for word in word_tokenize(text)]\n",
    "        corpus.append(words)\n",
    "    return corpus"
   ]
  },
  {
   "cell_type": "code",
   "execution_count": 477,
   "metadata": {},
   "outputs": [],
   "source": [
    "corpus = create_corpus_tk(train.subject)"
   ]
  },
  {
   "cell_type": "code",
   "execution_count": 478,
   "metadata": {},
   "outputs": [
    {
     "data": {
      "text/plain": [
       "['6', 'low', 'carb', 'cocktails', 'warm', 'weather', 'drinking']"
      ]
     },
     "execution_count": 478,
     "metadata": {},
     "output_type": "execute_result"
    }
   ],
   "source": [
    "corpus[0]"
   ]
  },
  {
   "cell_type": "code",
   "execution_count": 479,
   "metadata": {},
   "outputs": [
    {
     "name": "stdout",
     "output_type": "stream",
     "text": [
      "274139\n"
     ]
    }
   ],
   "source": [
    "num_words = len(corpus)\n",
    "print(num_words)"
   ]
  },
  {
   "cell_type": "code",
   "execution_count": 464,
   "metadata": {},
   "outputs": [
    {
     "data": {
      "text/plain": [
       "274139"
      ]
     },
     "execution_count": 464,
     "metadata": {},
     "output_type": "execute_result"
    }
   ],
   "source": [
    "len(train.subject)"
   ]
  },
  {
   "cell_type": "code",
   "execution_count": 480,
   "metadata": {},
   "outputs": [
    {
     "data": {
      "text/plain": [
       "0                6 low carb cocktails warm weather drinking\n",
       "1         behind polls republicans see silver lining vot...\n",
       "2         huge update gop cowards reversing course sidin...\n",
       "3                     kentucky derby run 23 000 fans stands\n",
       "4                                  gift better brcc bundles\n",
       "                                ...                        \n",
       "274134                     survive colorado lightning storm\n",
       "274135    breaking news deep state caught destroying cli...\n",
       "274136    breaking backstabbing gop advancing amnesty co...\n",
       "274137                            freedom firearm month dcf\n",
       "274138                                     12 000 msrp 1 27\n",
       "Name: subject, Length: 274139, dtype: object"
      ]
     },
     "execution_count": 480,
     "metadata": {},
     "output_type": "execute_result"
    }
   ],
   "source": [
    "train.subject"
   ]
  },
  {
   "cell_type": "code",
   "execution_count": 493,
   "metadata": {},
   "outputs": [],
   "source": [
    "train.to_csv('train_subject.csv',index=False)"
   ]
  },
  {
   "cell_type": "code",
   "execution_count": 481,
   "metadata": {},
   "outputs": [],
   "source": [
    "train_size = int(train.shape[0] * 0.8)\n",
    "\n",
    "train_sentences = train.subject[:train_size]\n",
    "train_labels = train.folder[:train_size]\n",
    "\n",
    "test_sentences = train.subject[train_size:]\n",
    "test_labels = train.folder[train_size:]"
   ]
  },
  {
   "cell_type": "code",
   "execution_count": 482,
   "metadata": {},
   "outputs": [],
   "source": [
    "\n",
    "\n",
    "max_len = 50"
   ]
  },
  {
   "cell_type": "code",
   "execution_count": 494,
   "metadata": {},
   "outputs": [],
   "source": [
    "train_sentence = pd.read_csv('train_subject.csv')"
   ]
  },
  {
   "cell_type": "code",
   "execution_count": 498,
   "metadata": {},
   "outputs": [
    {
     "data": {
      "text/plain": [
       "0                6 low carb cocktails warm weather drinking\n",
       "1         behind polls republicans see silver lining vot...\n",
       "2         huge update gop cowards reversing course sidin...\n",
       "3                     kentucky derby run 23 000 fans stands\n",
       "4                                  gift better brcc bundles\n",
       "                                ...                        \n",
       "274134                     survive colorado lightning storm\n",
       "274135    breaking news deep state caught destroying cli...\n",
       "274136    breaking backstabbing gop advancing amnesty co...\n",
       "274137                            freedom firearm month dcf\n",
       "274138                                     12 000 msrp 1 27\n",
       "Name: subject, Length: 274139, dtype: object"
      ]
     },
     "execution_count": 498,
     "metadata": {},
     "output_type": "execute_result"
    }
   ],
   "source": [
    "train_sentence.subject.astype(str)"
   ]
  },
  {
   "cell_type": "code",
   "execution_count": 491,
   "metadata": {},
   "outputs": [
    {
     "data": {
      "text/plain": [
       "0                6 low carb cocktails warm weather drinking\n",
       "1         behind polls republicans see silver lining vot...\n",
       "2         huge update gop cowards reversing course sidin...\n",
       "3                     kentucky derby run 23 000 fans stands\n",
       "4                                  gift better brcc bundles\n",
       "                                ...                        \n",
       "274134                     survive colorado lightning storm\n",
       "274135    breaking news deep state caught destroying cli...\n",
       "274136    breaking backstabbing gop advancing amnesty co...\n",
       "274137                            freedom firearm month dcf\n",
       "274138                                     12 000 msrp 1 27\n",
       "Name: subject, Length: 274139, dtype: object"
      ]
     },
     "execution_count": 491,
     "metadata": {},
     "output_type": "execute_result"
    }
   ],
   "source": [
    "train.subject"
   ]
  },
  {
   "cell_type": "code",
   "execution_count": 484,
   "metadata": {},
   "outputs": [
    {
     "data": {
      "text/plain": [
       "0                6 low carb cocktails warm weather drinking\n",
       "1         behind polls republicans see silver lining vot...\n",
       "2         huge update gop cowards reversing course sidin...\n",
       "3                     kentucky derby run 23 000 fans stands\n",
       "4                                  gift better brcc bundles\n",
       "                                ...                        \n",
       "219306                devo selling iconic whip face shields\n",
       "219307    good news denver christkindl market returns ho...\n",
       "219308      documentary takes new look jonbenét ramsey case\n",
       "219309    happening today congress voting radical gun co...\n",
       "219310                             golden girls cruise 2021\n",
       "Name: subject, Length: 219311, dtype: object"
      ]
     },
     "execution_count": 484,
     "metadata": {},
     "output_type": "execute_result"
    }
   ],
   "source": [
    "train_sentences"
   ]
  },
  {
   "cell_type": "code",
   "execution_count": 499,
   "metadata": {},
   "outputs": [],
   "source": [
    "tokenizer = Tokenizer(num_words=num_words)\n",
    "tokenizer.fit_on_texts(train_sentence.subject.astype(str))"
   ]
  },
  {
   "cell_type": "code",
   "execution_count": 29,
   "metadata": {},
   "outputs": [],
   "source": [
    "train_sequences = tokenizer.texts_to_sequences(train_sentences)"
   ]
  },
  {
   "cell_type": "code",
   "execution_count": 30,
   "metadata": {},
   "outputs": [
    {
     "data": {
      "text/plain": [
       "'adrenaline pumping adventures using aed'"
      ]
     },
     "execution_count": 30,
     "metadata": {},
     "output_type": "execute_result"
    }
   ],
   "source": [
    "train.subject[0]"
   ]
  },
  {
   "cell_type": "code",
   "execution_count": 31,
   "metadata": {
    "scrolled": true
   },
   "outputs": [
    {
     "data": {
      "text/plain": [
       "[5193, 5194, 4219, 915, 5195]"
      ]
     },
     "execution_count": 31,
     "metadata": {},
     "output_type": "execute_result"
    }
   ],
   "source": [
    "train_sequences[0]"
   ]
  },
  {
   "cell_type": "code",
   "execution_count": 99,
   "metadata": {},
   "outputs": [
    {
     "data": {
      "text/plain": [
       "array([[5193, 5194, 4219, ...,    0,    0,    0],\n",
       "       [ 154,   49,  641, ...,    0,    0,    0],\n",
       "       [ 112,   32, 1922, ...,    0,    0,    0],\n",
       "       ...,\n",
       "       [3160,  479, 2019, ...,    0,    0,    0],\n",
       "       [1284, 3531,  760, ...,    0,    0,    0],\n",
       "       [ 140, 1316, 1460, ...,    0,    0,    0]])"
      ]
     },
     "execution_count": 99,
     "metadata": {},
     "output_type": "execute_result"
    }
   ],
   "source": [
    "train_padded"
   ]
  },
  {
   "cell_type": "code",
   "execution_count": 32,
   "metadata": {},
   "outputs": [],
   "source": [
    "train_padded = pad_sequences(\n",
    "    train_sequences, maxlen=max_len, truncating=\"post\", padding=\"post\"\n",
    ")"
   ]
  },
  {
   "cell_type": "code",
   "execution_count": 33,
   "metadata": {},
   "outputs": [],
   "source": [
    "test_sequences = tokenizer.texts_to_sequences(test_sentences)\n",
    "test_padded = pad_sequences(\n",
    "    test_sequences, maxlen=max_len, padding=\"post\", truncating=\"post\"\n",
    ")"
   ]
  },
  {
   "cell_type": "code",
   "execution_count": 34,
   "metadata": {},
   "outputs": [
    {
     "name": "stdout",
     "output_type": "stream",
     "text": [
      "Number of unique words: 9632\n"
     ]
    }
   ],
   "source": [
    "word_index = tokenizer.word_index\n",
    "print(\"Number of unique words:\", len(word_index))"
   ]
  },
  {
   "cell_type": "code",
   "execution_count": 35,
   "metadata": {},
   "outputs": [
    {
     "data": {
      "text/plain": [
       "{'breaking': 1,\n",
       " 'colorado': 2,\n",
       " 'day': 3,\n",
       " 'denver': 4,\n",
       " 'new': 5,\n",
       " 'fec': 6,\n",
       " 'meeting': 7,\n",
       " 'trump': 8,\n",
       " 'get': 9,\n",
       " '10': 10,\n",
       " 'gop': 11,\n",
       " 'dems': 12,\n",
       " 'gun': 13,\n",
       " 'best': 14,\n",
       " 'united': 15,\n",
       " '2020': 16,\n",
       " 'save': 17,\n",
       " 'training': 18,\n",
       " 'free': 19,\n",
       " 'bighorn': 20,\n",
       " 'sale': 21,\n",
       " 'zoom': 22,\n",
       " 'bill': 23,\n",
       " '20': 24,\n",
       " 'tonight': 25,\n",
       " 'pelosi': 26,\n",
       " 'dcf': 27,\n",
       " 'weekend': 28,\n",
       " 'covid': 29,\n",
       " 'control': 30,\n",
       " 'uadf': 31,\n",
       " 'us': 32,\n",
       " 'coffee': 33,\n",
       " '1': 34,\n",
       " 'pillar': 35,\n",
       " 'week': 36,\n",
       " 'border': 37,\n",
       " 'ford': 38,\n",
       " 'automotive': 39,\n",
       " 'reminder': 40,\n",
       " 'family': 41,\n",
       " 'democrats': 42,\n",
       " '19': 43,\n",
       " 'first': 44,\n",
       " 'friday': 45,\n",
       " 'night': 46,\n",
       " 'cold': 47,\n",
       " 'savings': 48,\n",
       " 'coming': 49,\n",
       " '11': 50,\n",
       " 'help': 51,\n",
       " 'black': 52,\n",
       " '3': 53,\n",
       " '5': 54,\n",
       " 'back': 55,\n",
       " 'bell': 56,\n",
       " 'special': 57,\n",
       " '2': 58,\n",
       " 'weekly': 59,\n",
       " 'month': 60,\n",
       " 'year': 61,\n",
       " 'test': 62,\n",
       " 'beyer': 63,\n",
       " 'members': 64,\n",
       " 'stone': 65,\n",
       " 'service': 66,\n",
       " 'brcc': 67,\n",
       " 'vote': 68,\n",
       " 'tier': 69,\n",
       " '7': 70,\n",
       " 'christmas': 71,\n",
       " 'one': 72,\n",
       " 'time': 73,\n",
       " 'volvo': 74,\n",
       " 'things': 75,\n",
       " 'pizza': 76,\n",
       " '6pm': 77,\n",
       " 'action': 78,\n",
       " '000': 79,\n",
       " 'open': 80,\n",
       " 'faith': 81,\n",
       " 'education': 82,\n",
       " 'happy': 83,\n",
       " 'miss': 84,\n",
       " 'wall': 85,\n",
       " 'take': 86,\n",
       " 'national': 87,\n",
       " '12': 88,\n",
       " '9': 89,\n",
       " 'crowd': 90,\n",
       " 'game': 91,\n",
       " 'coronavirus': 92,\n",
       " 'try': 93,\n",
       " 'gopers': 94,\n",
       " 'enjoy': 95,\n",
       " 'event': 96,\n",
       " 'state': 97,\n",
       " 'iii': 98,\n",
       " 'holiday': 99,\n",
       " 'home': 100,\n",
       " 'last': 101,\n",
       " 'summer': 102,\n",
       " 'impeachment': 103,\n",
       " '2019': 104,\n",
       " '2021': 105,\n",
       " 'wednesday': 106,\n",
       " 'ice': 107,\n",
       " '8': 108,\n",
       " 'need': 109,\n",
       " 'monday': 110,\n",
       " 'un': 111,\n",
       " 'join': 112,\n",
       " 'plan': 113,\n",
       " 'funding': 114,\n",
       " 'traitors': 115,\n",
       " 'area': 116,\n",
       " 'update': 117,\n",
       " 'caught': 118,\n",
       " 'deal': 119,\n",
       " 'celebrate': 120,\n",
       " 'featured': 121,\n",
       " 'radical': 122,\n",
       " '6': 123,\n",
       " 'metro': 124,\n",
       " 'fun': 125,\n",
       " 'vehicle': 126,\n",
       " 'come': 127,\n",
       " 'winter': 128,\n",
       " 'block': 129,\n",
       " 'top': 130,\n",
       " 'springs': 131,\n",
       " '15': 132,\n",
       " 'experience': 133,\n",
       " 'next': 134,\n",
       " 'confiscation': 135,\n",
       " 'news': 136,\n",
       " 'mo': 137,\n",
       " 'gift': 138,\n",
       " 'amnesty': 139,\n",
       " 'broncos': 140,\n",
       " 'illegal': 141,\n",
       " 'club': 142,\n",
       " 'food': 143,\n",
       " 'today': 144,\n",
       " 'deals': 145,\n",
       " 'guns': 146,\n",
       " 'make': 147,\n",
       " 'days': 148,\n",
       " 'memorial': 149,\n",
       " 'father': 150,\n",
       " '4': 151,\n",
       " 'biden': 152,\n",
       " 'ready': 153,\n",
       " 'check': 154,\n",
       " 'congress': 155,\n",
       " 'love': 156,\n",
       " 'obama': 157,\n",
       " 'cars': 158,\n",
       " 'peak': 159,\n",
       " 'specials': 160,\n",
       " 'birthday': 161,\n",
       " 'call': 162,\n",
       " 'change': 163,\n",
       " 'start': 164,\n",
       " 'cream': 165,\n",
       " 'sales': 166,\n",
       " 'restaurant': 167,\n",
       " 'presidents': 168,\n",
       " 'house': 169,\n",
       " 'season': 170,\n",
       " 'buy': 171,\n",
       " 'watch': 172,\n",
       " 'roundup': 173,\n",
       " 'thursday': 174,\n",
       " 'may': 175,\n",
       " 'big': 176,\n",
       " 'handgun': 177,\n",
       " 'qualification': 178,\n",
       " 'events': 179,\n",
       " 'go': 180,\n",
       " 'offer': 181,\n",
       " 'king': 182,\n",
       " 'could': 183,\n",
       " 'nancy': 184,\n",
       " 'cowards': 185,\n",
       " 'republicans': 186,\n",
       " 'july': 187,\n",
       " 'wine': 188,\n",
       " 'america': 189,\n",
       " 'spring': 190,\n",
       " 'halloween': 191,\n",
       " 'beer': 192,\n",
       " 'give': 193,\n",
       " 'stop': 194,\n",
       " 'november': 195,\n",
       " 'zoo': 196,\n",
       " 'helping': 197,\n",
       " 'see': 198,\n",
       " 'delivery': 199,\n",
       " 'limited': 200,\n",
       " 'upcoming': 201,\n",
       " 'festival': 202,\n",
       " 'ban': 203,\n",
       " 'live': 204,\n",
       " '17': 205,\n",
       " 'group': 206,\n",
       " 'show': 207,\n",
       " 'shop': 208,\n",
       " 'drink': 209,\n",
       " 'south': 210,\n",
       " 'list': 211,\n",
       " 'forcing': 212,\n",
       " 'party': 213,\n",
       " 'dish': 214,\n",
       " 'anniversary': 215,\n",
       " 'course': 216,\n",
       " 'pass': 217,\n",
       " 'alien': 218,\n",
       " 'level': 219,\n",
       " 'final': 220,\n",
       " 'march': 221,\n",
       " 'tuesday': 222,\n",
       " 'cake': 223,\n",
       " 'needs': 224,\n",
       " 'sept': 225,\n",
       " 'pikes': 226,\n",
       " 'mobile': 227,\n",
       " 'right': 228,\n",
       " 'support': 229,\n",
       " 'want': 230,\n",
       " 'red': 231,\n",
       " 'registration': 232,\n",
       " 'blast': 233,\n",
       " '25': 234,\n",
       " 'american': 235,\n",
       " 'got': 236,\n",
       " 'must': 237,\n",
       " 'health': 238,\n",
       " 'bring': 239,\n",
       " 'county': 240,\n",
       " 'end': 241,\n",
       " 'nations': 242,\n",
       " '500': 243,\n",
       " 'urgent': 244,\n",
       " 'order': 245,\n",
       " 'restore': 246,\n",
       " 'voting': 247,\n",
       " 'october': 248,\n",
       " 'purchase': 249,\n",
       " 'chicken': 250,\n",
       " 'mother': 251,\n",
       " 'anti': 252,\n",
       " 'netflix': 253,\n",
       " 'fans': 254,\n",
       " 'yay': 255,\n",
       " 'giveaway': 256,\n",
       " 'life': 257,\n",
       " 'ways': 258,\n",
       " 'security': 259,\n",
       " 'land': 260,\n",
       " 'advancing': 261,\n",
       " 'man': 262,\n",
       " 'select': 263,\n",
       " 'community': 264,\n",
       " 'tap': 265,\n",
       " 'saturday': 266,\n",
       " 'annual': 267,\n",
       " 'law': 268,\n",
       " 'car': 269,\n",
       " 'recall': 270,\n",
       " 'lowest': 271,\n",
       " 'alert': 272,\n",
       " 'hotel': 273,\n",
       " 'stay': 274,\n",
       " 'themed': 275,\n",
       " 'explore': 276,\n",
       " 'politics': 277,\n",
       " 'looking': 278,\n",
       " 'menu': 279,\n",
       " 'win': 280,\n",
       " 'member': 281,\n",
       " 'pack': 282,\n",
       " 'hour': 283,\n",
       " 'valentine': 284,\n",
       " 'still': 285,\n",
       " 'world': 286,\n",
       " '4th': 287,\n",
       " 'february': 288,\n",
       " 'fall': 289,\n",
       " 'officially': 290,\n",
       " 'falls': 291,\n",
       " 'kids': 292,\n",
       " 'welcome': 293,\n",
       " 'deep': 294,\n",
       " 'park': 295,\n",
       " 'alexandria': 296,\n",
       " 'unbelievable': 297,\n",
       " 'around': 298,\n",
       " 'mountain': 299,\n",
       " 'planned': 300,\n",
       " 'early': 301,\n",
       " '22': 302,\n",
       " 'custom': 303,\n",
       " 'great': 304,\n",
       " 'drinking': 305,\n",
       " 'rover': 306,\n",
       " 'school': 307,\n",
       " 'found': 308,\n",
       " '13': 309,\n",
       " 'opening': 310,\n",
       " 'thank': 311,\n",
       " 'ever': 312,\n",
       " 'online': 313,\n",
       " 'church': 314,\n",
       " 'baby': 315,\n",
       " 'testing': 316,\n",
       " 'movie': 317,\n",
       " 'u': 318,\n",
       " 'confirmation': 319,\n",
       " 'giving': 320,\n",
       " 'wings': 321,\n",
       " 'away': 322,\n",
       " 'named': 323,\n",
       " 'let': 324,\n",
       " 'says': 325,\n",
       " 'bacon': 326,\n",
       " 'oil': 327,\n",
       " 'force': 328,\n",
       " 'almost': 329,\n",
       " 'protest': 330,\n",
       " 'chance': 331,\n",
       " 'mile': 332,\n",
       " 'inn': 333,\n",
       " 'piper': 334,\n",
       " 'tomorrow': 335,\n",
       " '50': 336,\n",
       " 'thru': 337,\n",
       " 'please': 338,\n",
       " 'aid': 339,\n",
       " 'important': 340,\n",
       " 'fight': 341,\n",
       " 'subaru': 342,\n",
       " 'construction': 343,\n",
       " 'hi': 344,\n",
       " 'agree': 345,\n",
       " 'trip': 346,\n",
       " '30': 347,\n",
       " 'power': 348,\n",
       " '300': 349,\n",
       " 'video': 350,\n",
       " 'upgraded': 351,\n",
       " 'noticed': 352,\n",
       " '99': 353,\n",
       " 'hours': 354,\n",
       " 'location': 355,\n",
       " 'votes': 356,\n",
       " 'perfect': 357,\n",
       " 'announces': 358,\n",
       " 'pinetree': 359,\n",
       " 'sitewide': 360,\n",
       " 'treaty': 361,\n",
       " 'dulles': 362,\n",
       " 'thanksgiving': 363,\n",
       " 'newsletter': 364,\n",
       " 'republican': 365,\n",
       " '1st': 366,\n",
       " 'n': 367,\n",
       " 'dry': 368,\n",
       " 'election': 369,\n",
       " 'msrp': 370,\n",
       " 'september': 371,\n",
       " 'pop': 372,\n",
       " 'tiger': 373,\n",
       " 'january': 374,\n",
       " 'mask': 375,\n",
       " 'bear': 376,\n",
       " 'bubbles': 377,\n",
       " '27': 378,\n",
       " 'relief': 379,\n",
       " 'dock': 380,\n",
       " 'better': 381,\n",
       " 'road': 382,\n",
       " 'orders': 383,\n",
       " 'package': 384,\n",
       " 'tire': 385,\n",
       " 'compromise': 386,\n",
       " 'poll': 387,\n",
       " 'way': 388,\n",
       " 'president': 389,\n",
       " 'quarantine': 390,\n",
       " 'shooting': 391,\n",
       " 'joe': 392,\n",
       " 'eat': 393,\n",
       " 'fest': 394,\n",
       " 'cool': 395,\n",
       " 'find': 396,\n",
       " 'favorite': 397,\n",
       " 'john': 398,\n",
       " 'music': 399,\n",
       " 'drive': 400,\n",
       " 'wolf': 401,\n",
       " 'central': 402,\n",
       " 'possible': 403,\n",
       " 'calling': 404,\n",
       " 'people': 405,\n",
       " 'starts': 406,\n",
       " 'made': 407,\n",
       " 'investigation': 408,\n",
       " 'updated': 409,\n",
       " 'subject': 410,\n",
       " 'dinner': 411,\n",
       " 'furious': 412,\n",
       " 'soon': 413,\n",
       " 'cocktails': 414,\n",
       " 'face': 415,\n",
       " 'parenthood': 416,\n",
       " 'general': 417,\n",
       " 'surrender': 418,\n",
       " 'restaurants': 419,\n",
       " 'feb': 420,\n",
       " 'complimentary': 421,\n",
       " 'burger': 422,\n",
       " 'gifts': 423,\n",
       " '29': 424,\n",
       " 'climate': 425,\n",
       " 'notice': 426,\n",
       " 'double': 427,\n",
       " 'exclusive': 428,\n",
       " 'killed': 429,\n",
       " '26': 430,\n",
       " 'ocn': 431,\n",
       " 'escape': 432,\n",
       " 'good': 433,\n",
       " 'available': 434,\n",
       " 'december': 435,\n",
       " 'working': 436,\n",
       " 'appraisals': 437,\n",
       " 'pumpkin': 438,\n",
       " 'veterans': 439,\n",
       " 'foreign': 440,\n",
       " 'harry': 441,\n",
       " 'freedom': 442,\n",
       " 'crush': 443,\n",
       " 'pro': 444,\n",
       " 'weather': 445,\n",
       " 'super': 446,\n",
       " 'pushing': 447,\n",
       " 'bowl': 448,\n",
       " 'friends': 449,\n",
       " 'star': 450,\n",
       " 'stimulus': 451,\n",
       " 'brew': 452,\n",
       " 'boulder': 453,\n",
       " 'dead': 454,\n",
       " 'lunch': 455,\n",
       " 'tequila': 456,\n",
       " 'know': 457,\n",
       " 'brunch': 458,\n",
       " 'haunted': 459,\n",
       " 'aug': 460,\n",
       " 'bi': 461,\n",
       " 'auto': 462,\n",
       " 'public': 463,\n",
       " 'pandemic': 464,\n",
       " 'ecs': 465,\n",
       " 'local': 466,\n",
       " 'parker': 467,\n",
       " 'cash': 468,\n",
       " 'insurance': 469,\n",
       " 'takeout': 470,\n",
       " 'ends': 471,\n",
       " 'liberty': 472,\n",
       " 'look': 473,\n",
       " 'cases': 474,\n",
       " 'workers': 475,\n",
       " 'ceo': 476,\n",
       " 'app': 477,\n",
       " 'c': 478,\n",
       " 'unique': 479,\n",
       " '28': 480,\n",
       " 'cancel': 481,\n",
       " 'full': 482,\n",
       " 'police': 483,\n",
       " 'high': 484,\n",
       " 'lake': 485,\n",
       " 'yahoo': 486,\n",
       " 'running': 487,\n",
       " 'additional': 488,\n",
       " 'receive': 489,\n",
       " 'products': 490,\n",
       " 'medical': 491,\n",
       " '16': 492,\n",
       " 'two': 493,\n",
       " 'potter': 494,\n",
       " 'sunday': 495,\n",
       " 'labor': 496,\n",
       " 'classroom': 497,\n",
       " 'due': 498,\n",
       " 'bag': 499,\n",
       " 'biggest': 500,\n",
       " 'flash': 501,\n",
       " 'rifle': 502,\n",
       " 'forward': 503,\n",
       " 'utms': 504,\n",
       " 'hero': 505,\n",
       " 'dies': 506,\n",
       " 'minute': 507,\n",
       " '40': 508,\n",
       " 'santa': 509,\n",
       " 'madness': 510,\n",
       " 'air': 511,\n",
       " 'secret': 512,\n",
       " 'repair': 513,\n",
       " 'defies': 514,\n",
       " 'money': 515,\n",
       " 'rolls': 516,\n",
       " 'models': 517,\n",
       " 'making': 518,\n",
       " 'gear': 519,\n",
       " 'navy': 520,\n",
       " 'planning': 521,\n",
       " 'april': 522,\n",
       " 'safe': 523,\n",
       " 'message': 524,\n",
       " 'unconstitutional': 525,\n",
       " 'leftists': 526,\n",
       " 'returns': 527,\n",
       " 'virus': 528,\n",
       " 'use': 529,\n",
       " 'stand': 530,\n",
       " 'date': 531,\n",
       " 'cancelled': 532,\n",
       " '100': 533,\n",
       " 'fort': 534,\n",
       " 'rsvp': 535,\n",
       " '24': 536,\n",
       " 'cup': 537,\n",
       " '18': 538,\n",
       " 'episode': 539,\n",
       " 'treat': 540,\n",
       " 'liquor': 541,\n",
       " 'dia': 542,\n",
       " 'across': 543,\n",
       " 'veteran': 544,\n",
       " 'starbucks': 545,\n",
       " 'manager': 546,\n",
       " 'amazon': 547,\n",
       " 'whiskey': 548,\n",
       " 'set': 549,\n",
       " 'recipes': 550,\n",
       " 'sazza': 551,\n",
       " 'return': 552,\n",
       " 'three': 553,\n",
       " 'tell': 554,\n",
       " 'cyber': 555,\n",
       " 'admission': 556,\n",
       " 'shameful': 557,\n",
       " 'shopping': 558,\n",
       " 'mail': 559,\n",
       " 'brewing': 560,\n",
       " 'snow': 561,\n",
       " 'collins': 562,\n",
       " 'ending': 563,\n",
       " 'missions': 564,\n",
       " 'late': 565,\n",
       " 'foundation': 566,\n",
       " 'cancels': 567,\n",
       " 'left': 568,\n",
       " 'protect': 569,\n",
       " 'taco': 570,\n",
       " 'northern': 571,\n",
       " 'dog': 572,\n",
       " 'heart': 573,\n",
       " 'yes': 574,\n",
       " 'company': 575,\n",
       " 'iconic': 576,\n",
       " 'months': 577,\n",
       " 'wildlife': 578,\n",
       " 'range': 579,\n",
       " 'journey': 580,\n",
       " 'going': 581,\n",
       " 'ski': 582,\n",
       " 'program': 583,\n",
       " 'activities': 584,\n",
       " 'demands': 585,\n",
       " 'b': 586,\n",
       " 'locations': 587,\n",
       " 'latest': 588,\n",
       " 'everything': 589,\n",
       " 'august': 590,\n",
       " 'disgusting': 591,\n",
       " 'alignment': 592,\n",
       " 'ultimate': 593,\n",
       " 'team': 594,\n",
       " '0': 595,\n",
       " 'june': 596,\n",
       " 'rally': 597,\n",
       " 'judge': 598,\n",
       " '31': 599,\n",
       " 'criminals': 600,\n",
       " 'sandwich': 601,\n",
       " 'masks': 602,\n",
       " 'offers': 603,\n",
       " 'fried': 604,\n",
       " 'note': 605,\n",
       " 'country': 606,\n",
       " 'court': 607,\n",
       " 'items': 608,\n",
       " 'nov': 609,\n",
       " '2nd': 610,\n",
       " 'co': 611,\n",
       " 'office': 612,\n",
       " 'cave': 613,\n",
       " 'spooky': 614,\n",
       " 'chapter': 615,\n",
       " 'permanent': 616,\n",
       " 'tires': 617,\n",
       " 'tour': 618,\n",
       " 'line': 619,\n",
       " 'jewelers': 620,\n",
       " 'happening': 621,\n",
       " 'aliens': 622,\n",
       " 'every': 623,\n",
       " 'prior': 624,\n",
       " 'pizzas': 625,\n",
       " '4x4': 626,\n",
       " 'betrayal': 627,\n",
       " '14': 628,\n",
       " 'hallmark': 629,\n",
       " 'citizenship': 630,\n",
       " 'airport': 631,\n",
       " 'stock': 632,\n",
       " 'mandates': 633,\n",
       " 'million': 634,\n",
       " 'mac': 635,\n",
       " 'engine': 636,\n",
       " 'dine': 637,\n",
       " 'supports': 638,\n",
       " 'bills': 639,\n",
       " 'fuel': 640,\n",
       " 'disney': 641,\n",
       " 'old': 642,\n",
       " 'subscription': 643,\n",
       " 'site': 644,\n",
       " 'death': 645,\n",
       " 'cares': 646,\n",
       " 'creations': 647,\n",
       " 'dad': 648,\n",
       " 'place': 649,\n",
       " 'white': 650,\n",
       " 'trips': 651,\n",
       " 'jewelry': 652,\n",
       " 'de': 653,\n",
       " 'keep': 654,\n",
       " 'steal': 655,\n",
       " 'times': 656,\n",
       " 'charged': 657,\n",
       " 'v': 658,\n",
       " 'arrived': 659,\n",
       " 'paid': 660,\n",
       " 'say': 661,\n",
       " 'review': 662,\n",
       " 'ad': 663,\n",
       " 'without': 664,\n",
       " 'international': 665,\n",
       " 'blocking': 666,\n",
       " 'wave': 667,\n",
       " 'offering': 668,\n",
       " 'americans': 669,\n",
       " 'seal': 670,\n",
       " 'release': 671,\n",
       " 'vaccine': 672,\n",
       " 'changes': 673,\n",
       " 'spend': 674,\n",
       " 'launched': 675,\n",
       " 'doc': 676,\n",
       " 'owners': 677,\n",
       " 'brings': 678,\n",
       " 'years': 679,\n",
       " 'city': 680,\n",
       " 'abortion': 681,\n",
       " 'spice': 682,\n",
       " 'tasting': 683,\n",
       " 'remove': 684,\n",
       " 'unbeatable': 685,\n",
       " 'price': 686,\n",
       " 'bar': 687,\n",
       " 'potential': 688,\n",
       " 'ranch': 689,\n",
       " 'battery': 690,\n",
       " 'tactical': 691,\n",
       " 'spirit': 692,\n",
       " 'friendly': 693,\n",
       " 'stands': 694,\n",
       " 'focus': 695,\n",
       " 'bonus': 696,\n",
       " 'caving': 697,\n",
       " '199': 698,\n",
       " 'girl': 699,\n",
       " 'supreme': 700,\n",
       " 'data': 701,\n",
       " 'walk': 702,\n",
       " 'term': 703,\n",
       " 'finally': 704,\n",
       " 'pricing': 705,\n",
       " 'second': 706,\n",
       " 'texas': 707,\n",
       " 'arrested': 708,\n",
       " 'system': 709,\n",
       " 'required': 710,\n",
       " 'cookie': 711,\n",
       " 'thousands': 712,\n",
       " 'watching': 713,\n",
       " 'requested': 714,\n",
       " 'card': 715,\n",
       " 'elway': 716,\n",
       " 'engraving': 717,\n",
       " 'hut': 718,\n",
       " 'guide': 719,\n",
       " 'daily': 720,\n",
       " 'rocks': 721,\n",
       " 'legendary': 722,\n",
       " 'account': 723,\n",
       " 'becoming': 724,\n",
       " 'batter': 725,\n",
       " 'wild': 726,\n",
       " '23': 727,\n",
       " 'complete': 728,\n",
       " 'newly': 729,\n",
       " 'bandimere': 730,\n",
       " 'covered': 731,\n",
       " 'countdown': 732,\n",
       " 'grows': 733,\n",
       " 'become': 734,\n",
       " 'shows': 735,\n",
       " 'low': 736,\n",
       " 'cuts': 737,\n",
       " 'nation': 738,\n",
       " 'animal': 739,\n",
       " 'kia': 740,\n",
       " 'heard': 741,\n",
       " 'magic': 742,\n",
       " 'x': 743,\n",
       " 'rushing': 744,\n",
       " 'schedule': 745,\n",
       " 'hello': 746,\n",
       " 'movies': 747,\n",
       " 'rated': 748,\n",
       " 'store': 749,\n",
       " 'tax': 750,\n",
       " 'pre': 751,\n",
       " 'history': 752,\n",
       " 'games': 753,\n",
       " 'mug': 754,\n",
       " 'market': 755,\n",
       " 'maga': 756,\n",
       " 'move': 757,\n",
       " 'masses': 758,\n",
       " 'demand': 759,\n",
       " 'turkey': 760,\n",
       " '3d': 761,\n",
       " 'replacement': 762,\n",
       " 'class': 763,\n",
       " 'north': 764,\n",
       " 'sig': 765,\n",
       " 'social': 766,\n",
       " 'another': 767,\n",
       " 'fast': 768,\n",
       " 'trying': 769,\n",
       " 'phone': 770,\n",
       " 'takes': 771,\n",
       " 'word': 772,\n",
       " 'flavors': 773,\n",
       " 'frappuccino': 774,\n",
       " 'cities': 775,\n",
       " 'military': 776,\n",
       " 'meetings': 777,\n",
       " 'republica': 778,\n",
       " 'media': 779,\n",
       " 'reasons': 780,\n",
       " 'reveals': 781,\n",
       " 'lion': 782,\n",
       " 'bogo': 783,\n",
       " 'even': 784,\n",
       " 'vehicles': 785,\n",
       " 'chaos': 786,\n",
       " 'train': 787,\n",
       " '11th': 788,\n",
       " 'inclement': 789,\n",
       " 'justice': 790,\n",
       " 'famous': 791,\n",
       " 'inspired': 792,\n",
       " 'wing': 793,\n",
       " 'inside': 794,\n",
       " 'fighting': 795,\n",
       " 'fourth': 796,\n",
       " 'near': 797,\n",
       " 'benefits': 798,\n",
       " 'youth': 799,\n",
       " 'pay': 800,\n",
       " 'virtual': 801,\n",
       " 'campus': 802,\n",
       " 'walmart': 803,\n",
       " 'emergency': 804,\n",
       " 'sneak': 805,\n",
       " 'paper': 806,\n",
       " 'patriot': 807,\n",
       " 'creek': 808,\n",
       " 'feet': 809,\n",
       " 'traitor': 810,\n",
       " 'orangutan': 811,\n",
       " 'lineup': 812,\n",
       " 'george': 813,\n",
       " 'launches': 814,\n",
       " 'invited': 815,\n",
       " 'striking': 816,\n",
       " 'warning': 817,\n",
       " 'thrones': 818,\n",
       " '14th': 819,\n",
       " 'trng': 820,\n",
       " 'parks': 821,\n",
       " 'access': 822,\n",
       " 'easter': 823,\n",
       " 'plates': 824,\n",
       " 'voice': 825,\n",
       " 'fix': 826,\n",
       " 'pie': 827,\n",
       " 'brought': 828,\n",
       " 'spanish': 829,\n",
       " 'moving': 830,\n",
       " 'die': 831,\n",
       " 'classic': 832,\n",
       " 'chipotle': 833,\n",
       " 'small': 834,\n",
       " 'woman': 835,\n",
       " 'frozen': 836,\n",
       " 'whip': 837,\n",
       " 'castles': 838,\n",
       " 'role': 839,\n",
       " 'sports': 840,\n",
       " 'supporting': 841,\n",
       " 'terrified': 842,\n",
       " 'llama': 843,\n",
       " 'explorer': 844,\n",
       " 'facts': 845,\n",
       " 'door': 846,\n",
       " '3rd': 847,\n",
       " 'major': 848,\n",
       " 'troops': 849,\n",
       " 'rules': 850,\n",
       " 'twitter': 851,\n",
       " 'tours': 852,\n",
       " 'introducing': 853,\n",
       " 'agrees': 854,\n",
       " 'cystic': 855,\n",
       " 'fibrosis': 856,\n",
       " 'hot': 857,\n",
       " 'hold': 858,\n",
       " 'inspection': 859,\n",
       " 'iran': 860,\n",
       " 'bad': 861,\n",
       " 'bringing': 862,\n",
       " 'backdoor': 863,\n",
       " 'concert': 864,\n",
       " 'center': 865,\n",
       " '1773': 866,\n",
       " 'pin': 867,\n",
       " 'defy': 868,\n",
       " 'oh': 869,\n",
       " 'vail': 870,\n",
       " 'celebration': 871,\n",
       " 'conference': 872,\n",
       " 'amendment': 873,\n",
       " 'museums': 874,\n",
       " 'town': 875,\n",
       " 'google': 876,\n",
       " '101': 877,\n",
       " 'victory': 878,\n",
       " 'ranger': 879,\n",
       " 'legislation': 880,\n",
       " 'stores': 881,\n",
       " 'canceled': 882,\n",
       " 'leevers': 883,\n",
       " 'kid': 884,\n",
       " 'different': 885,\n",
       " 'roast': 886,\n",
       " 'songs': 887,\n",
       " 'cdc': 888,\n",
       " 'tweets': 889,\n",
       " 'sauce': 890,\n",
       " 'immigration': 891,\n",
       " 'gardens': 892,\n",
       " 'florida': 893,\n",
       " 'dark': 894,\n",
       " 'always': 895,\n",
       " '90s': 896,\n",
       " 'name': 897,\n",
       " 'tent': 898,\n",
       " 'federal': 899,\n",
       " 'backstabbing': 900,\n",
       " 'would': 901,\n",
       " 'wow': 902,\n",
       " '01': 903,\n",
       " 'cheyenne': 904,\n",
       " 'ideas': 905,\n",
       " 'introduces': 906,\n",
       " 'positive': 907,\n",
       " 'report': 908,\n",
       " 'warm': 909,\n",
       " 'moon': 910,\n",
       " 'express': 911,\n",
       " 'mazda': 912,\n",
       " 'apologies': 913,\n",
       " 'mcdonald': 914,\n",
       " 'using': 915,\n",
       " 'visit': 916,\n",
       " 'chips': 917,\n",
       " 'dillon': 918,\n",
       " 'removed': 919,\n",
       " 'apr': 920,\n",
       " 'basic': 921,\n",
       " 'host': 922,\n",
       " 'design': 923,\n",
       " 'peanut': 924,\n",
       " 'butter': 925,\n",
       " 'flavor': 926,\n",
       " 'massive': 927,\n",
       " '200': 928,\n",
       " 'reportedly': 929,\n",
       " 'intro': 930,\n",
       " 'idea': 931,\n",
       " 'hospital': 932,\n",
       " 'doughnut': 933,\n",
       " 'shoes': 934,\n",
       " 'hackers': 935,\n",
       " 'beef': 936,\n",
       " '95': 937,\n",
       " 'pickle': 938,\n",
       " 'lounge': 939,\n",
       " 'lawsuit': 940,\n",
       " 'usa': 941,\n",
       " 'vaccination': 942,\n",
       " 'really': 943,\n",
       " 'identified': 944,\n",
       " '250': 945,\n",
       " 'delivers': 946,\n",
       " 'carry': 947,\n",
       " '21': 948,\n",
       " 'portion': 949,\n",
       " 'eatery': 950,\n",
       " 'holding': 951,\n",
       " 'fire': 952,\n",
       " 'wars': 953,\n",
       " 'announced': 954,\n",
       " 'children': 955,\n",
       " 'costco': 956,\n",
       " 'independence': 957,\n",
       " 'proof': 958,\n",
       " 'hosting': 959,\n",
       " 'toilet': 960,\n",
       " 'district': 961,\n",
       " 'true': 962,\n",
       " 'recipe': 963,\n",
       " 'tuesdays': 964,\n",
       " 'book': 965,\n",
       " 'enters': 966,\n",
       " 'calls': 967,\n",
       " 'millions': 968,\n",
       " 'series': 969,\n",
       " 'green': 970,\n",
       " 'details': 971,\n",
       " 'opens': 972,\n",
       " 'diamond': 973,\n",
       " 'cause': 974,\n",
       " 'uber': 975,\n",
       " 'celebrates': 976,\n",
       " 'worth': 977,\n",
       " 'socially': 978,\n",
       " 'amid': 979,\n",
       " 'merry': 980,\n",
       " 'stealing': 981,\n",
       " 'james': 982,\n",
       " 'business': 983,\n",
       " 'goes': 984,\n",
       " 'shutdown': 985,\n",
       " 'volunteers': 986,\n",
       " 'flips': 987,\n",
       " 'capabilities': 988,\n",
       " 'created': 989,\n",
       " 'ground': 990,\n",
       " 'procrastinating': 991,\n",
       " 'senate': 992,\n",
       " 'broke': 993,\n",
       " 'wear': 994,\n",
       " 'cards': 995,\n",
       " 'sold': 996,\n",
       " 'push': 997,\n",
       " 'chainsaw': 998,\n",
       " 'prime': 999,\n",
       " 'civilian': 1000,\n",
       " ...}"
      ]
     },
     "execution_count": 35,
     "metadata": {},
     "output_type": "execute_result"
    }
   ],
   "source": [
    "word_index"
   ]
  },
  {
   "cell_type": "code",
   "execution_count": 148,
   "metadata": {},
   "outputs": [
    {
     "data": {
      "text/plain": [
       "5193"
      ]
     },
     "execution_count": 148,
     "metadata": {},
     "output_type": "execute_result"
    }
   ],
   "source": [
    "word_index['adrenaline']"
   ]
  },
  {
   "cell_type": "code",
   "execution_count": 37,
   "metadata": {},
   "outputs": [],
   "source": [
    "embedding_dict = {}\n",
    "with open(\"glove.6B.100d.txt\", \"r\",encoding=\"utf8\") as f:\n",
    "    for line in f:\n",
    "        values = line.split()\n",
    "        word = values[0]\n",
    "        vectors = np.asarray(values[1:], \"float32\")\n",
    "        embedding_dict[word] = vectors\n",
    "f.close()"
   ]
  },
  {
   "cell_type": "code",
   "execution_count": 39,
   "metadata": {},
   "outputs": [],
   "source": [
    "num_words = len(word_index) + 1\n",
    "embedding_matrix = np.zeros((num_words, 100))\n",
    "\n",
    "for word, i in word_index.items():\n",
    "    if i < num_words:\n",
    "        emb_vec = embedding_dict.get(word)\n",
    "        if emb_vec is not None:\n",
    "            embedding_matrix[i] = emb_vec"
   ]
  },
  {
   "cell_type": "code",
   "execution_count": 162,
   "metadata": {},
   "outputs": [
    {
     "data": {
      "text/plain": [
       "5193"
      ]
     },
     "execution_count": 162,
     "metadata": {},
     "output_type": "execute_result"
    }
   ],
   "source": [
    "train_padded[0][0]"
   ]
  },
  {
   "cell_type": "code",
   "execution_count": 158,
   "metadata": {},
   "outputs": [
    {
     "data": {
      "text/plain": [
       "array([[5193, 5194, 4219, ...,    0,    0,    0],\n",
       "       [ 154,   49,  641, ...,    0,    0,    0],\n",
       "       [ 112,   32, 1922, ...,    0,    0,    0],\n",
       "       ...,\n",
       "       [3160,  479, 2019, ...,    0,    0,    0],\n",
       "       [1284, 3531,  760, ...,    0,    0,    0],\n",
       "       [ 140, 1316, 1460, ...,    0,    0,    0]])"
      ]
     },
     "execution_count": 158,
     "metadata": {},
     "output_type": "execute_result"
    }
   ],
   "source": [
    "train_padded"
   ]
  },
  {
   "cell_type": "code",
   "execution_count": 160,
   "metadata": {},
   "outputs": [
    {
     "data": {
      "text/plain": [
       "array([ 0.62901002, -0.30140001,  0.77780998, -1.98380005,  0.038554  ,\n",
       "        0.50762999, -0.28997001,  0.65205997, -0.23244999,  0.032924  ,\n",
       "        0.80843002,  0.18978   , -0.86848003, -0.71749997,  0.15676001,\n",
       "        0.47859001, -1.1552    , -0.19176   ,  0.24688999,  0.19354001,\n",
       "       -0.21999   , -0.23321   , -0.66030997, -0.59073001,  0.037053  ,\n",
       "        1.07089996, -0.076202  , -0.0099041 ,  0.83186001,  0.067971  ,\n",
       "       -0.29822999, -0.23772   , -0.28952   ,  0.54076999,  0.097979  ,\n",
       "       -0.61172003, -0.80361003,  0.74010998,  0.25652999,  0.1125    ,\n",
       "        0.32157001,  0.35018   , -0.69138998, -0.42442   ,  0.10353   ,\n",
       "        0.21898   ,  0.19842   , -0.73926997,  0.64432001, -0.63586998,\n",
       "       -0.85430998,  0.20467   ,  0.31986001, -0.035938  ,  0.39096001,\n",
       "       -0.66526997, -0.16761   , -0.092277  ,  0.32077   , -0.052522  ,\n",
       "        0.87300003,  0.31332999, -0.031438  ,  0.20269001, -0.15072   ,\n",
       "        0.63875997,  0.90921998, -1.33529997,  0.31687   , -0.64938003,\n",
       "        0.75536001, -0.78434002,  0.66268998,  0.44178   , -0.47362   ,\n",
       "        0.56752002,  0.53285998, -0.35297   ,  0.045872  , -0.47084999,\n",
       "       -0.13022   ,  0.31531   , -0.73888999, -0.10278   , -0.39039001,\n",
       "        0.39844999,  0.018252  ,  0.098175  , -1.09329998, -0.81980002,\n",
       "       -0.40331   , -0.097618  , -1.20410001,  0.084458  ,  0.23846   ,\n",
       "       -0.67374998,  0.57745999, -0.51679999,  0.42574   ,  0.71057999])"
      ]
     },
     "execution_count": 160,
     "metadata": {},
     "output_type": "execute_result"
    }
   ],
   "source": [
    "embedding_matrix[5193]"
   ]
  },
  {
   "cell_type": "code",
   "execution_count": 161,
   "metadata": {},
   "outputs": [
    {
     "data": {
      "text/plain": [
       "array([ 0.62901  , -0.3014   ,  0.77781  , -1.9838   ,  0.038554 ,\n",
       "        0.50763  , -0.28997  ,  0.65206  , -0.23245  ,  0.032924 ,\n",
       "        0.80843  ,  0.18978  , -0.86848  , -0.7175   ,  0.15676  ,\n",
       "        0.47859  , -1.1552   , -0.19176  ,  0.24689  ,  0.19354  ,\n",
       "       -0.21999  , -0.23321  , -0.66031  , -0.59073  ,  0.037053 ,\n",
       "        1.0709   , -0.076202 , -0.0099041,  0.83186  ,  0.067971 ,\n",
       "       -0.29823  , -0.23772  , -0.28952  ,  0.54077  ,  0.097979 ,\n",
       "       -0.61172  , -0.80361  ,  0.74011  ,  0.25653  ,  0.1125   ,\n",
       "        0.32157  ,  0.35018  , -0.69139  , -0.42442  ,  0.10353  ,\n",
       "        0.21898  ,  0.19842  , -0.73927  ,  0.64432  , -0.63587  ,\n",
       "       -0.85431  ,  0.20467  ,  0.31986  , -0.035938 ,  0.39096  ,\n",
       "       -0.66527  , -0.16761  , -0.092277 ,  0.32077  , -0.052522 ,\n",
       "        0.873    ,  0.31333  , -0.031438 ,  0.20269  , -0.15072  ,\n",
       "        0.63876  ,  0.90922  , -1.3353   ,  0.31687  , -0.64938  ,\n",
       "        0.75536  , -0.78434  ,  0.66269  ,  0.44178  , -0.47362  ,\n",
       "        0.56752  ,  0.53286  , -0.35297  ,  0.045872 , -0.47085  ,\n",
       "       -0.13022  ,  0.31531  , -0.73889  , -0.10278  , -0.39039  ,\n",
       "        0.39845  ,  0.018252 ,  0.098175 , -1.0933   , -0.8198   ,\n",
       "       -0.40331  , -0.097618 , -1.2041   ,  0.084458 ,  0.23846  ,\n",
       "       -0.67375  ,  0.57746  , -0.5168   ,  0.42574  ,  0.71058  ],\n",
       "      dtype=float32)"
      ]
     },
     "execution_count": 161,
     "metadata": {},
     "output_type": "execute_result"
    }
   ],
   "source": [
    "embedding_dict.get(\"adrenaline\")"
   ]
  },
  {
   "cell_type": "code",
   "execution_count": 155,
   "metadata": {},
   "outputs": [
    {
     "data": {
      "text/plain": [
       "9633"
      ]
     },
     "execution_count": 155,
     "metadata": {},
     "output_type": "execute_result"
    }
   ],
   "source": [
    "num_words"
   ]
  },
  {
   "cell_type": "code",
   "execution_count": 157,
   "metadata": {},
   "outputs": [
    {
     "data": {
      "text/plain": [
       "3272"
      ]
     },
     "execution_count": 157,
     "metadata": {},
     "output_type": "execute_result"
    }
   ],
   "source": [
    "word_index[\"humor\"]"
   ]
  },
  {
   "cell_type": "code",
   "execution_count": 42,
   "metadata": {},
   "outputs": [
    {
     "data": {
      "text/plain": [
       "array([ 0.12102  ,  0.15919  ,  0.57651  , -0.64885  , -0.018114 ,\n",
       "        0.81705  , -0.20923  , -0.4013   , -0.26703  ,  0.45778  ,\n",
       "       -0.68631  , -0.35044  , -0.13487  , -0.0058998,  0.44537  ,\n",
       "        0.6458   , -0.49616  , -0.33951  , -0.26207  ,  0.41948  ,\n",
       "        0.80614  , -0.13352  , -0.65547  , -1.0535   ,  0.4554   ,\n",
       "        0.70436  , -0.04756  , -0.041788 , -0.36993  , -0.44544  ,\n",
       "       -0.17457  ,  0.46704  , -1.2787   , -0.2036   ,  0.26769  ,\n",
       "        0.22095  , -0.072417 , -0.08944  , -0.41842  ,  0.31555  ,\n",
       "        0.47776  , -0.096983 , -1.0555   , -0.51882  , -0.50685  ,\n",
       "       -0.09724  ,  0.051038 , -0.31864  ,  0.41282  , -0.49141  ,\n",
       "        0.11218  ,  0.17831  ,  0.37976  ,  0.97001  ,  0.073411 ,\n",
       "       -1.54     ,  0.069392 , -0.29664  ,  0.076152 , -0.39628  ,\n",
       "        0.85271  ,  1.0843   , -0.093598 , -0.82453  ,  0.76908  ,\n",
       "       -0.32088  ,  1.8475   , -0.83703  ,  0.29144  , -0.14991  ,\n",
       "        0.11909  ,  0.72146  ,  0.42551  ,  0.3858   , -0.0071183,\n",
       "        0.77641  ,  0.12779  ,  0.39296  , -0.40219  ,  0.032234 ,\n",
       "       -1.0377   ,  0.26249  ,  0.20091  , -0.59957  , -1.1634   ,\n",
       "        0.04322  , -0.12649  ,  0.70198  ,  0.048864 , -0.38758  ,\n",
       "        0.095532 ,  0.17987  ,  0.05236  ,  0.3846   , -0.22329  ,\n",
       "        0.27301  , -0.15906  , -1.05     ,  0.065005 ,  1.3893   ],\n",
       "      dtype=float32)"
      ]
     },
     "execution_count": 42,
     "metadata": {},
     "output_type": "execute_result"
    }
   ],
   "source": [
    "embedding_dict.get(\"humor\")"
   ]
  },
  {
   "cell_type": "code",
   "execution_count": 44,
   "metadata": {},
   "outputs": [
    {
     "name": "stdout",
     "output_type": "stream",
     "text": [
      "(219311, 50)\n",
      "(219311,)\n"
     ]
    }
   ],
   "source": [
    "print(train_padded.shape)\n",
    "print(train_labels.shape)"
   ]
  },
  {
   "cell_type": "code",
   "execution_count": 46,
   "metadata": {},
   "outputs": [
    {
     "data": {
      "text/plain": [
       "56666"
      ]
     },
     "execution_count": 46,
     "metadata": {},
     "output_type": "execute_result"
    }
   ],
   "source": [
    "train_labels.sum()"
   ]
  },
  {
   "cell_type": "code",
   "execution_count": 47,
   "metadata": {},
   "outputs": [
    {
     "data": {
      "text/plain": [
       "0.2589688045554672"
      ]
     },
     "execution_count": 47,
     "metadata": {},
     "output_type": "execute_result"
    }
   ],
   "source": [
    "56666/218814"
   ]
  },
  {
   "cell_type": "markdown",
   "metadata": {},
   "source": [
    "#### Baseline Model with GloVe"
   ]
  },
  {
   "cell_type": "code",
   "execution_count": 127,
   "metadata": {},
   "outputs": [],
   "source": [
    "\n",
    "model = Sequential()\n",
    "\n",
    "embedding_layer = Embedding(num_words,\n",
    "                            100,\n",
    "                            embeddings_initializer=Constant(embedding_matrix),\n",
    "                            input_length=max_len,\n",
    "                            trainable=False)\n",
    "model.add(embedding_layer)\n",
    "model.add(LSTM(100, dropout=0.1))\n",
    "model.add(Dense(1, activation=\"sigmoid\"))\n",
    "\n",
    "\n",
    "optimizer = Adam(learning_rate=3e-4)\n",
    "\n",
    "model.compile(loss=\"binary_crossentropy\", optimizer=optimizer, metrics=[\"accuracy\"])"
   ]
  },
  {
   "cell_type": "code",
   "execution_count": 258,
   "metadata": {},
   "outputs": [
    {
     "data": {
      "text/plain": [
       "9633"
      ]
     },
     "execution_count": 258,
     "metadata": {},
     "output_type": "execute_result"
    }
   ],
   "source": [
    "num_words"
   ]
  },
  {
   "cell_type": "code",
   "execution_count": 191,
   "metadata": {},
   "outputs": [
    {
     "data": {
      "text/plain": [
       "9633"
      ]
     },
     "execution_count": 191,
     "metadata": {},
     "output_type": "execute_result"
    }
   ],
   "source": [
    "len(embedding_layer.get_weights()[0])"
   ]
  },
  {
   "cell_type": "code",
   "execution_count": 259,
   "metadata": {
    "scrolled": true
   },
   "outputs": [
    {
     "data": {
      "text/plain": [
       "[array([[ 0.       ,  0.       ,  0.       , ...,  0.       ,  0.       ,\n",
       "          0.       ],\n",
       "        [ 0.41259  , -0.31065  ,  0.29951  , ...,  0.0090597,  0.4888   ,\n",
       "          0.33219  ],\n",
       "        [ 0.20024  , -0.15213  ,  0.75959  , ...,  0.50671  ,  0.61645  ,\n",
       "         -0.24715  ],\n",
       "        ...,\n",
       "        [-0.015913 , -0.30256  , -0.026587 , ...,  0.30884  , -0.39604  ,\n",
       "         -0.021601 ],\n",
       "        [ 0.012833 ,  0.31163  , -0.27999  , ...,  0.2169   , -0.36248  ,\n",
       "          0.079934 ],\n",
       "        [-0.25443  , -0.51396  ,  0.54856  , ...,  0.019298 , -0.20062  ,\n",
       "          0.2041   ]], dtype=float32)]"
      ]
     },
     "execution_count": 259,
     "metadata": {},
     "output_type": "execute_result"
    }
   ],
   "source": [
    "embedding_layer.get_weights()"
   ]
  },
  {
   "cell_type": "code",
   "execution_count": 139,
   "metadata": {},
   "outputs": [
    {
     "data": {
      "text/plain": [
       "array([ 0.41259  , -0.31065  ,  0.29951  ,  0.36721  ,  0.13741  ,\n",
       "        0.55248  , -0.31164  , -0.0087347, -0.18458  , -0.047201 ,\n",
       "        0.36065  , -0.12249  ,  0.20574  ,  0.30119  , -0.23471  ,\n",
       "        0.13276  , -0.33065  ,  0.14375  , -0.071672 , -0.085993 ,\n",
       "        0.31045  ,  0.37707  ,  0.55549  , -0.086976 ,  1.2369   ,\n",
       "        0.35397  , -0.76141  , -0.47132  ,  0.47715  ,  0.023182 ,\n",
       "        0.027953 ,  0.32094  ,  0.1566   , -0.28748  , -0.1149   ,\n",
       "       -1.047    , -0.39054  , -0.63109  , -0.38466  ,  0.40104  ,\n",
       "       -0.22523  , -0.093672 ,  0.22211  ,  0.21125  ,  0.10776  ,\n",
       "       -0.12398  , -0.030252 , -0.37765  , -0.036319 , -0.87442  ,\n",
       "        0.73861  ,  0.11461  ,  0.012238 ,  1.0808   ,  0.10115  ,\n",
       "       -1.9685   ,  0.10829  ,  0.5701   ,  1.3935   ,  1.1848   ,\n",
       "       -0.2129   ,  0.25336  , -0.35452  ,  0.15792  , -0.15401  ,\n",
       "        0.3987   ,  0.64375  ,  0.020352 ,  0.18372  , -0.44399  ,\n",
       "       -0.25399  ,  0.47873  , -0.23172  , -0.061468 , -0.066105 ,\n",
       "        0.16794  , -0.30165  , -0.35129  , -0.12439  ,  0.35676  ,\n",
       "        0.54221  ,  0.076347 , -0.3393   ,  0.26769  , -0.81608  ,\n",
       "        0.074066 , -0.18461  ,  0.32109  , -0.39336  ,  0.31693  ,\n",
       "        0.017347 ,  0.053775 , -0.44366  ,  0.11965  , -0.11647  ,\n",
       "       -0.45984  ,  0.16404  ,  0.0090597,  0.4888   ,  0.33219  ],\n",
       "      dtype=float32)"
      ]
     },
     "execution_count": 139,
     "metadata": {},
     "output_type": "execute_result"
    }
   ],
   "source": [
    "embedding_layer.get_weights()[0][1]"
   ]
  },
  {
   "cell_type": "code",
   "execution_count": 49,
   "metadata": {},
   "outputs": [
    {
     "name": "stdout",
     "output_type": "stream",
     "text": [
      "Epoch 1/30\n",
      "6854/6854 [==============================] - 106s 15ms/step - loss: 0.5526 - accuracy: 0.7449 - val_loss: 0.5095 - val_accuracy: 0.7591\n",
      "Epoch 2/30\n",
      "6854/6854 [==============================] - 103s 15ms/step - loss: 0.5059 - accuracy: 0.7608 - val_loss: 0.4787 - val_accuracy: 0.7670\n",
      "Epoch 3/30\n",
      "6854/6854 [==============================] - 105s 15ms/step - loss: 0.4794 - accuracy: 0.7701 - val_loss: 0.4615 - val_accuracy: 0.7727\n",
      "Epoch 4/30\n",
      "6854/6854 [==============================] - 105s 15ms/step - loss: 0.4615 - accuracy: 0.7762 - val_loss: 0.4509 - val_accuracy: 0.7772\n",
      "Epoch 5/30\n",
      "6854/6854 [==============================] - 105s 15ms/step - loss: 0.4529 - accuracy: 0.7784 - val_loss: 0.4495 - val_accuracy: 0.7752\n",
      "Epoch 6/30\n",
      "6854/6854 [==============================] - 106s 15ms/step - loss: 0.4478 - accuracy: 0.7800 - val_loss: 0.4462 - val_accuracy: 0.7795\n",
      "Epoch 7/30\n",
      "6854/6854 [==============================] - 105s 15ms/step - loss: 0.4443 - accuracy: 0.7814 - val_loss: 0.4394 - val_accuracy: 0.7805\n",
      "Epoch 8/30\n",
      "6854/6854 [==============================] - 105s 15ms/step - loss: 0.4405 - accuracy: 0.7816 - val_loss: 0.4401 - val_accuracy: 0.7818\n",
      "Epoch 9/30\n",
      "6854/6854 [==============================] - 105s 15ms/step - loss: 0.4365 - accuracy: 0.7827 - val_loss: 0.4375 - val_accuracy: 0.7799\n",
      "Epoch 10/30\n",
      "6854/6854 [==============================] - 105s 15ms/step - loss: 0.4326 - accuracy: 0.7845 - val_loss: 0.4355 - val_accuracy: 0.7806\n",
      "Epoch 11/30\n",
      "6854/6854 [==============================] - 105s 15ms/step - loss: 0.4320 - accuracy: 0.7832 - val_loss: 0.4339 - val_accuracy: 0.7808\n",
      "Epoch 12/30\n",
      "6854/6854 [==============================] - 105s 15ms/step - loss: 0.4321 - accuracy: 0.7845 - val_loss: 0.4350 - val_accuracy: 0.7770\n",
      "Epoch 13/30\n",
      "6854/6854 [==============================] - 106s 15ms/step - loss: 0.4296 - accuracy: 0.7837 - val_loss: 0.4348 - val_accuracy: 0.7808\n",
      "Epoch 14/30\n",
      "6854/6854 [==============================] - 106s 15ms/step - loss: 0.4250 - accuracy: 0.7877 - val_loss: 0.4323 - val_accuracy: 0.7834\n",
      "Epoch 15/30\n",
      "6854/6854 [==============================] - 105s 15ms/step - loss: 0.4272 - accuracy: 0.7858 - val_loss: 0.4351 - val_accuracy: 0.7797\n",
      "Epoch 16/30\n",
      "6854/6854 [==============================] - 106s 15ms/step - loss: 0.4245 - accuracy: 0.7851 - val_loss: 0.4407 - val_accuracy: 0.7766\n",
      "Epoch 17/30\n",
      "6854/6854 [==============================] - 106s 15ms/step - loss: 0.4348 - accuracy: 0.7832 - val_loss: 0.4448 - val_accuracy: 0.7741\n",
      "Epoch 18/30\n",
      "6854/6854 [==============================] - 106s 15ms/step - loss: 0.4409 - accuracy: 0.7789 - val_loss: 0.4702 - val_accuracy: 0.7731\n",
      "Epoch 19/30\n",
      "6854/6854 [==============================] - 105s 15ms/step - loss: 0.4556 - accuracy: 0.7803 - val_loss: 0.4596 - val_accuracy: 0.7800\n",
      "Epoch 20/30\n",
      "6854/6854 [==============================] - 105s 15ms/step - loss: 0.4703 - accuracy: 0.7755 - val_loss: 0.4880 - val_accuracy: 0.7591\n",
      "Epoch 21/30\n",
      "6854/6854 [==============================] - 105s 15ms/step - loss: 0.4943 - accuracy: 0.7548 - val_loss: 0.4554 - val_accuracy: 0.7729\n",
      "Epoch 22/30\n",
      "6854/6854 [==============================] - 105s 15ms/step - loss: 0.4553 - accuracy: 0.7754 - val_loss: 0.4519 - val_accuracy: 0.7750\n",
      "Epoch 23/30\n",
      "6854/6854 [==============================] - 104s 15ms/step - loss: 0.4472 - accuracy: 0.7797 - val_loss: 0.4408 - val_accuracy: 0.7808\n",
      "Epoch 24/30\n",
      "6854/6854 [==============================] - 105s 15ms/step - loss: 0.4357 - accuracy: 0.7831 - val_loss: 0.4370 - val_accuracy: 0.7825\n",
      "Epoch 25/30\n",
      "6854/6854 [==============================] - 105s 15ms/step - loss: 0.4330 - accuracy: 0.7831 - val_loss: 0.4337 - val_accuracy: 0.7832\n",
      "Epoch 26/30\n",
      "6854/6854 [==============================] - 106s 15ms/step - loss: 0.4288 - accuracy: 0.7851 - val_loss: 0.4315 - val_accuracy: 0.7841\n",
      "Epoch 27/30\n",
      "6854/6854 [==============================] - 105s 15ms/step - loss: 0.4246 - accuracy: 0.7866 - val_loss: 0.4301 - val_accuracy: 0.7848\n",
      "Epoch 28/30\n",
      "6854/6854 [==============================] - 106s 15ms/step - loss: 0.4243 - accuracy: 0.7876 - val_loss: 0.4296 - val_accuracy: 0.7824\n",
      "Epoch 29/30\n",
      "6854/6854 [==============================] - 106s 15ms/step - loss: 0.4209 - accuracy: 0.7880 - val_loss: 0.4307 - val_accuracy: 0.7848\n",
      "Epoch 30/30\n",
      "6854/6854 [==============================] - 106s 15ms/step - loss: 0.4189 - accuracy: 0.7899 - val_loss: 0.4311 - val_accuracy: 0.7863\n"
     ]
    }
   ],
   "source": [
    "history = model.fit(\n",
    "    train_padded,\n",
    "    train_labels.astype('int'),\n",
    "    epochs=30,\n",
    "    validation_data=(test_padded, test_labels.astype('int')),\n",
    "    verbose=1,\n",
    ")"
   ]
  },
  {
   "cell_type": "code",
   "execution_count": 452,
   "metadata": {},
   "outputs": [],
   "source": [
    "model.save(\"EmailClassification.h5\")"
   ]
  },
  {
   "cell_type": "code",
   "execution_count": null,
   "metadata": {},
   "outputs": [],
   "source": [
    "tokenizer = Tokenizer(num_words=num_words)\n",
    "tokenizer.fit_on_texts(train_sentences)"
   ]
  },
  {
   "cell_type": "code",
   "execution_count": 50,
   "metadata": {},
   "outputs": [],
   "source": [
    "sequences = tokenizer.texts_to_sequences(test.subject)\n",
    "padded = pad_sequences(sequences, maxlen=max_len, padding=\"post\", truncating=\"post\")"
   ]
  },
  {
   "cell_type": "code",
   "execution_count": 51,
   "metadata": {},
   "outputs": [],
   "source": [
    "pred = model.predict(padded)\n",
    "pred_int = pred.round().astype(\"int\")"
   ]
  },
  {
   "cell_type": "code",
   "execution_count": 55,
   "metadata": {},
   "outputs": [
    {
     "data": {
      "text/plain": [
       "'Bighorn Automotive  Has A Great Oil Change  Special'"
      ]
     },
     "execution_count": 55,
     "metadata": {},
     "output_type": "execute_result"
    }
   ],
   "source": [
    "test.subject[7398]"
   ]
  },
  {
   "cell_type": "code",
   "execution_count": 57,
   "metadata": {},
   "outputs": [
    {
     "data": {
      "text/plain": [
       "array([[0]])"
      ]
     },
     "execution_count": 57,
     "metadata": {},
     "output_type": "execute_result"
    }
   ],
   "source": [
    "sequences = tokenizer.texts_to_sequences(pd.Series(\"Come enjoy Corned Beef and Cabbage with us this St. Patrick's Day.\"))\n",
    "padded = pad_sequences(sequences, maxlen=max_len, padding=\"post\", truncating=\"post\")\n",
    "pred = model.predict(padded)\n",
    "pred.round().astype(\"int\")"
   ]
  },
  {
   "cell_type": "code",
   "execution_count": null,
   "metadata": {},
   "outputs": [],
   "source": []
  },
  {
   "cell_type": "markdown",
   "metadata": {},
   "source": [
    "#### Function"
   ]
  },
  {
   "cell_type": "code",
   "execution_count": 358,
   "metadata": {},
   "outputs": [],
   "source": [
    "# JSON statement\n",
    "s ='''{\n",
    "  \"subjects\": [\n",
    "    {\n",
    "      \"subject\": \"Exclusive Access to Traveland Golf\"\n",
    "    },\n",
    "    {\n",
    "      \"subject\": \"Business School\"\n",
    "    },\n",
    "    {\n",
    "      \"subject\": \"TEST Get The Black Rifle Essentials\"\n",
    "    }]\n",
    "      }'''"
   ]
  },
  {
   "cell_type": "code",
   "execution_count": 359,
   "metadata": {},
   "outputs": [],
   "source": [
    "import json\n",
    "subjects = json.loads(s)"
   ]
  },
  {
   "cell_type": "code",
   "execution_count": 360,
   "metadata": {},
   "outputs": [
    {
     "data": {
      "text/plain": [
       "{'subjects': [{'subject': 'Exclusive Access to Traveland Golf'},\n",
       "  {'subject': 'Business School'},\n",
       "  {'subject': 'TEST Get The Black Rifle Essentials'}]}"
      ]
     },
     "execution_count": 360,
     "metadata": {},
     "output_type": "execute_result"
    }
   ],
   "source": [
    "subjects"
   ]
  },
  {
   "cell_type": "code",
   "execution_count": 361,
   "metadata": {},
   "outputs": [
    {
     "name": "stdout",
     "output_type": "stream",
     "text": [
      "Exclusive Access to Traveland Golf\n",
      "Business School\n",
      "TEST Get The Black Rifle Essentials\n"
     ]
    }
   ],
   "source": [
    "for sub in subjects['subjects']:\n",
    "    print(sub['subject'])"
   ]
  },
  {
   "cell_type": "code",
   "execution_count": 365,
   "metadata": {},
   "outputs": [
    {
     "name": "stdout",
     "output_type": "stream",
     "text": [
      "{'subject': 'Exclusive Access to Traveland Golf', 'folder': 'a'}\n",
      "{'subject': 'Business School', 'folder': 'a'}\n",
      "{'subject': 'TEST Get The Black Rifle Essentials', 'folder': 'a'}\n"
     ]
    }
   ],
   "source": [
    "for sub in subjects['subjects']:\n",
    "    sub['folder']='a'\n",
    "    print(sub)"
   ]
  },
  {
   "cell_type": "code",
   "execution_count": 336,
   "metadata": {},
   "outputs": [],
   "source": [
    "# subject can be list/string here\n",
    "def folder_prediction(subject):\n",
    "    model = keras.models.load_model(\"PostCategory.h5\")\n",
    "    df = pd.DataFrame(columns=['Subject','Folder'])\n",
    "    for sub in subject:\n",
    "        sequences = tokenizer.texts_to_sequences(pd.Series(sub))\n",
    "        padded = pad_sequences(sequences, maxlen=max_len, padding=\"post\", truncating=\"post\")\n",
    "        pred = model.predict(padded)\n",
    "        prediction = pred.round().astype(\"int\")\n",
    "        if prediction[0][0] == 0:\n",
    "            df = df.append({'Subject':sub,'Folder':'Inbox'}, ignore_index=True)\n",
    "        else:\n",
    "            df = df.append({'Subject':sub,'Folder':'Spam'}, ignore_index=True)\n",
    "    return df\n"
   ]
  },
  {
   "cell_type": "code",
   "execution_count": null,
   "metadata": {},
   "outputs": [],
   "source": []
  },
  {
   "cell_type": "code",
   "execution_count": null,
   "metadata": {},
   "outputs": [],
   "source": []
  },
  {
   "cell_type": "code",
   "execution_count": null,
   "metadata": {},
   "outputs": [],
   "source": [
    "# JSON API"
   ]
  },
  {
   "cell_type": "code",
   "execution_count": 447,
   "metadata": {},
   "outputs": [],
   "source": [
    "# JSON statement\n",
    "import json\n",
    "s ='''{\"subjects\": \n",
    " [{\"subject\": \"Exclusive Access to Traveland Golf\"},\n",
    "  {\"subject\": \"Business School\"},\n",
    "  {\"subject\": \"TEST Get The Black Rifle Essentials\"}]}'''"
   ]
  },
  {
   "cell_type": "code",
   "execution_count": 443,
   "metadata": {},
   "outputs": [],
   "source": [
    "def load_json(json_file):\n",
    "    subject_list = []\n",
    "    subjects = json.loads(json_file)\n",
    "    for sub in subjects['subjects']:\n",
    "        subject_list.append(sub['subject'])\n",
    "    return subjects['subjects'], subject_list"
   ]
  },
  {
   "cell_type": "code",
   "execution_count": 454,
   "metadata": {},
   "outputs": [
    {
     "data": {
      "text/plain": [
       "[{'subject': 'Exclusive Access to Traveland Golf'},\n",
       " {'subject': 'Business School'},\n",
       " {'subject': 'TEST Get The Black Rifle Essentials'}]"
      ]
     },
     "execution_count": 454,
     "metadata": {},
     "output_type": "execute_result"
    }
   ],
   "source": [
    "a,b = load_json(s)\n",
    "a"
   ]
  },
  {
   "cell_type": "code",
   "execution_count": 444,
   "metadata": {},
   "outputs": [],
   "source": [
    "# subject can be list/string here\n",
    "def folder_prediction(subject):\n",
    "    json_dict = subject[0]\n",
    "    subject_list = subject[1]\n",
    "    folder = []\n",
    "    for i,sub in enumerate(subject_list):\n",
    "        sequences = tokenizer.texts_to_sequences(pd.Series(sub))\n",
    "        padded = pad_sequences(sequences, maxlen=max_len, padding=\"post\", truncating=\"post\")\n",
    "        pred = model.predict(padded)\n",
    "        prediction = pred.round().astype(\"int\")\n",
    "        if prediction[0][0] == 0:\n",
    "            json_dict[i]['folder'] = 'Inbox'\n",
    "        else:\n",
    "            json_dict[i]['folder'] =  'Spam'\n",
    "    return json_dict"
   ]
  },
  {
   "cell_type": "code",
   "execution_count": 445,
   "metadata": {},
   "outputs": [],
   "source": [
    "def dump_json(json_file):\n",
    "    subjects = json.loads(json_file)\n",
    "    subjects['subjects'] = folder_prediction(load_json(s))\n",
    "    print(json.dumps(subjects, indent=2))"
   ]
  },
  {
   "cell_type": "code",
   "execution_count": 450,
   "metadata": {},
   "outputs": [
    {
     "name": "stdout",
     "output_type": "stream",
     "text": [
      "{\n",
      "  \"subjects\": [\n",
      "    {\n",
      "      \"subject\": \"Exclusive Access to Traveland Golf\",\n",
      "      \"folder\": \"Spam\"\n",
      "    },\n",
      "    {\n",
      "      \"subject\": \"Business School\",\n",
      "      \"folder\": \"Inbox\"\n",
      "    },\n",
      "    {\n",
      "      \"subject\": \"TEST Get The Black Rifle Essentials\",\n",
      "      \"folder\": \"Spam\"\n",
      "    }\n",
      "  ]\n",
      "}\n"
     ]
    }
   ],
   "source": [
    "dump_json(s)"
   ]
  },
  {
   "cell_type": "code",
   "execution_count": null,
   "metadata": {},
   "outputs": [],
   "source": []
  },
  {
   "cell_type": "code",
   "execution_count": null,
   "metadata": {},
   "outputs": [],
   "source": []
  },
  {
   "cell_type": "code",
   "execution_count": null,
   "metadata": {},
   "outputs": [],
   "source": []
  },
  {
   "cell_type": "code",
   "execution_count": 337,
   "metadata": {},
   "outputs": [
    {
     "data": {
      "text/html": [
       "<div>\n",
       "<style scoped>\n",
       "    .dataframe tbody tr th:only-of-type {\n",
       "        vertical-align: middle;\n",
       "    }\n",
       "\n",
       "    .dataframe tbody tr th {\n",
       "        vertical-align: top;\n",
       "    }\n",
       "\n",
       "    .dataframe thead th {\n",
       "        text-align: right;\n",
       "    }\n",
       "</style>\n",
       "<table border=\"1\" class=\"dataframe\">\n",
       "  <thead>\n",
       "    <tr style=\"text-align: right;\">\n",
       "      <th></th>\n",
       "      <th>Subject</th>\n",
       "      <th>Folder</th>\n",
       "    </tr>\n",
       "  </thead>\n",
       "  <tbody>\n",
       "    <tr>\n",
       "      <th>0</th>\n",
       "      <td>Exclusive Access to Traveland Golf</td>\n",
       "      <td>Spam</td>\n",
       "    </tr>\n",
       "    <tr>\n",
       "      <th>1</th>\n",
       "      <td>Business School</td>\n",
       "      <td>Inbox</td>\n",
       "    </tr>\n",
       "    <tr>\n",
       "      <th>2</th>\n",
       "      <td>TEST Get The Black Rifle Essentials</td>\n",
       "      <td>Spam</td>\n",
       "    </tr>\n",
       "  </tbody>\n",
       "</table>\n",
       "</div>"
      ],
      "text/plain": [
       "                               Subject Folder\n",
       "0   Exclusive Access to Traveland Golf   Spam\n",
       "1                      Business School  Inbox\n",
       "2  TEST Get The Black Rifle Essentials   Spam"
      ]
     },
     "execution_count": 337,
     "metadata": {},
     "output_type": "execute_result"
    }
   ],
   "source": [
    "folder_prediction(['Exclusive Access to Traveland Golf','Business School','TEST Get The Black Rifle Essentials'])"
   ]
  },
  {
   "cell_type": "code",
   "execution_count": null,
   "metadata": {},
   "outputs": [],
   "source": []
  },
  {
   "cell_type": "code",
   "execution_count": null,
   "metadata": {},
   "outputs": [],
   "source": []
  },
  {
   "cell_type": "code",
   "execution_count": 316,
   "metadata": {},
   "outputs": [],
   "source": [
    "# Subject inbox/spam prediction\n",
    "def inbox_prediction(subject):\n",
    "    sequences = tokenizer.texts_to_sequences(pd.Series(subject))\n",
    "    padded = pad_sequences(sequences, maxlen=max_len, padding=\"post\", truncating=\"post\")\n",
    "    pred = model.predict(padded)\n",
    "    prediction = pred.round().astype(\"int\")\n",
    "    if prediction[0][0] == 0:\n",
    "        return 'Inbox'\n",
    "    else:\n",
    "        return 'Spam'"
   ]
  },
  {
   "cell_type": "code",
   "execution_count": 294,
   "metadata": {
    "scrolled": true
   },
   "outputs": [
    {
     "name": "stdout",
     "output_type": "stream",
     "text": [
      "(\"Come enjoy Corned Beef and Cabbage with us this St. Patrick's Day.\", 'Inbox')\n"
     ]
    }
   ],
   "source": [
    "print(inbox_prediction(\"Come enjoy Corned Beef and Cabbage with us this St. Patrick's Day.\"))"
   ]
  },
  {
   "cell_type": "code",
   "execution_count": 317,
   "metadata": {},
   "outputs": [
    {
     "data": {
      "text/plain": [
       "'Spam'"
      ]
     },
     "execution_count": 317,
     "metadata": {},
     "output_type": "execute_result"
    }
   ],
   "source": [
    "inbox_prediction('State’s Deepest Darkest Secret: a $54 Trillion')"
   ]
  },
  {
   "cell_type": "code",
   "execution_count": 318,
   "metadata": {},
   "outputs": [
    {
     "data": {
      "text/plain": [
       "'Inbox'"
      ]
     },
     "execution_count": 318,
     "metadata": {},
     "output_type": "execute_result"
    }
   ],
   "source": [
    "inbox_prediction('Business School')"
   ]
  },
  {
   "cell_type": "code",
   "execution_count": 319,
   "metadata": {},
   "outputs": [
    {
     "data": {
      "text/plain": [
       "'Spam'"
      ]
     },
     "execution_count": 319,
     "metadata": {},
     "output_type": "execute_result"
    }
   ],
   "source": [
    "inbox_prediction('TEST Get The Black Rifle Essentials')"
   ]
  },
  {
   "cell_type": "code",
   "execution_count": 320,
   "metadata": {},
   "outputs": [
    {
     "data": {
      "text/plain": [
       "'Spam'"
      ]
     },
     "execution_count": 320,
     "metadata": {},
     "output_type": "execute_result"
    }
   ],
   "source": [
    "inbox_prediction('Your Purchase from Audi Denver Grants You Exclusive Access to Traveland Golf')"
   ]
  },
  {
   "cell_type": "code",
   "execution_count": 321,
   "metadata": {},
   "outputs": [
    {
     "data": {
      "text/plain": [
       "'Spam'"
      ]
     },
     "execution_count": 321,
     "metadata": {},
     "output_type": "execute_result"
    }
   ],
   "source": [
    "inbox_prediction('Exclusive Access to Traveland Golf')"
   ]
  },
  {
   "cell_type": "code",
   "execution_count": null,
   "metadata": {},
   "outputs": [],
   "source": []
  },
  {
   "cell_type": "code",
   "execution_count": 345,
   "metadata": {},
   "outputs": [],
   "source": [
    "# Many subject check\n",
    "\n",
    "def group_inbox_prediction(subject):\n",
    "    sequences = tokenizer.texts_to_sequences(subject)\n",
    "    padded = pad_sequences(sequences, maxlen=max_len, padding=\"post\", truncating=\"post\")\n",
    "    pred = model.predict(padded)\n",
    "    prediction = pred.round().astype(\"int\")\n",
    "    return prediction"
   ]
  },
  {
   "cell_type": "code",
   "execution_count": 354,
   "metadata": {},
   "outputs": [
    {
     "data": {
      "text/plain": [
       "array([[1],\n",
       "       [1],\n",
       "       [1],\n",
       "       ...,\n",
       "       [1],\n",
       "       [1],\n",
       "       [1]])"
      ]
     },
     "execution_count": 354,
     "metadata": {},
     "output_type": "execute_result"
    }
   ],
   "source": [
    "group_inbox_prediction(test.subject)"
   ]
  },
  {
   "cell_type": "code",
   "execution_count": null,
   "metadata": {},
   "outputs": [],
   "source": []
  },
  {
   "cell_type": "code",
   "execution_count": 500,
   "metadata": {},
   "outputs": [],
   "source": [
    "def EmailCategorization():\n",
    "    jsonData ='''{\"subjects\": \n",
    " [{\"subject\": \"Exclusive Access to Traveland Golf\"},\n",
    "  {\"subject\": \"Business School\"},\n",
    "  {\"subject\": \"TEST Get The Black Rifle Essentials\"}]}'''\n",
    "    ##jsonData = json.loads(request.data)\n",
    "\n",
    "    subjects = json.loads(jsonData)\n",
    "    json_dict = subjects['subjects']\n",
    "    subject_list = []\n",
    "    for sub in subjects['subjects']:\n",
    "        subject_list.append(sub['subject'])\n",
    "    train_sentences = pd.read_csv('train_subject.csv')\n",
    "    num_words = len(train_sentences)\n",
    "    tokenizer = Tokenizer(num_words=num_words)\n",
    "    tokenizer.fit_on_texts(train_sentences.subject.astype(str))\n",
    "    model = keras.models.load_model(\"EmailClassification.h5\")\n",
    "    for i, sub in enumerate(subject_list):\n",
    "        sequences = tokenizer.texts_to_sequences(pd.Series(sub))\n",
    "        padded = pad_sequences(sequences, maxlen=50, padding=\"post\", truncating=\"post\")\n",
    "        pred = model.predict(padded)\n",
    "        prediction = pred.round().astype(\"int\")\n",
    "        if prediction[0][0] == 0:\n",
    "            json_dict[i]['folder'] = 'Inbox'\n",
    "        else:\n",
    "            json_dict[i]['folder'] =  'Spam'\n",
    "\n",
    "\n",
    "    subjects['subjects'] = json_dict\n",
    "    return_json = json.dumps(subjects, indent=2)\n",
    "    return return_json"
   ]
  },
  {
   "cell_type": "code",
   "execution_count": 504,
   "metadata": {},
   "outputs": [
    {
     "name": "stdout",
     "output_type": "stream",
     "text": [
      "{\n",
      "  \"subjects\": [\n",
      "    {\n",
      "      \"subject\": \"Exclusive Access to Traveland Golf\",\n",
      "      \"folder\": \"Spam\"\n",
      "    },\n",
      "    {\n",
      "      \"subject\": \"Business School\",\n",
      "      \"folder\": \"Spam\"\n",
      "    },\n",
      "    {\n",
      "      \"subject\": \"TEST Get The Black Rifle Essentials\",\n",
      "      \"folder\": \"Spam\"\n",
      "    }\n",
      "  ]\n",
      "}\n"
     ]
    }
   ],
   "source": [
    "print(EmailCategorization())"
   ]
  }
 ],
 "metadata": {
  "kernelspec": {
   "display_name": "Python 3",
   "language": "python",
   "name": "python3"
  },
  "language_info": {
   "codemirror_mode": {
    "name": "ipython",
    "version": 3
   },
   "file_extension": ".py",
   "mimetype": "text/x-python",
   "name": "python",
   "nbconvert_exporter": "python",
   "pygments_lexer": "ipython3",
   "version": "3.8.5"
  }
 },
 "nbformat": 4,
 "nbformat_minor": 4
}
